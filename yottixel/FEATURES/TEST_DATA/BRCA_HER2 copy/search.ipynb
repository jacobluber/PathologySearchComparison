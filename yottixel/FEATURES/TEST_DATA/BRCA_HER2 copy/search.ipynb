{
 "cells": [
  {
   "cell_type": "code",
   "execution_count": null,
   "id": "7057e03f-d9d8-4eb3-8517-73d37da492eb",
   "metadata": {
    "tags": []
   },
   "outputs": [],
   "source": [
    "import os\n",
    "from os import listdir, makedirs\n",
    "from os.path import join, dirname, basename, splitext\n",
    "import datetime\n",
    "import ast\n",
    "import yaml\n",
    "\n",
    "import openslide\n",
    "import pickle\n",
    "import numpy as np\n",
    "import pandas as pd\n",
    "import bitarray\n",
    "import glob\n",
    "from bitarray import util as butil\n",
    "from skimage import io\n",
    "from matplotlib import pyplot as plt\n",
    "from PIL import Image"
   ]
  },
  {
   "attachments": {},
   "cell_type": "markdown",
   "id": "4e802ceb-83bd-4d19-aad1-2c19f57c43bd",
   "metadata": {
    "jp-MarkdownHeadingCollapsed": true
   },
   "source": [
    "# Functions and Classes"
   ]
  },
  {
   "cell_type": "code",
   "execution_count": null,
   "id": "c011715b-6385-4db5-92ba-871bff9a9ca8",
   "metadata": {},
   "outputs": [],
   "source": [
    "class BoB:\n",
    "    def __init__(self, barcodes, file_name, site, diagnosis):\n",
    "        self.barcodes = [bitarray.bitarray(b.tolist()) for b in barcodes]\n",
    "        self.file_name = file_name\n",
    "        self.site = site\n",
    "        self.diagnosis = diagnosis\n",
    "        \n",
    "    def select_subset(self, n=3):\n",
    "        idx = np.arange(len(self.barcodes))\n",
    "        np.random.shuffle(idx)\n",
    "        idx = idx[:n]\n",
    "        return BoB(barcodes=[self.barcodes[i] for i in idx])\n",
    "    \n",
    "    def distance(self, bob):\n",
    "        total_dist = []\n",
    "        for feat in self.barcodes:\n",
    "            distances = [butil.count_xor(feat, b) for b in bob.barcodes]\n",
    "            total_dist.append(np.min(distances))\n",
    "        retval = np.median(total_dist)\n",
    "        return retval"
   ]
  },
  {
   "cell_type": "code",
   "execution_count": null,
   "id": "0526663a-88ac-4677-94da-a23856db7b50",
   "metadata": {
    "tags": []
   },
   "outputs": [],
   "source": [
    "def load_mosaic(mosaic_path):\n",
    "    df = pd.read_hdf(mosaic_path, 'df')\n",
    "    # Convert back to original forms\n",
    "    df['loc'] = df['loc'].apply(ast.literal_eval)\n",
    "    df['wsi_loc'] = df['wsi_loc'].apply(ast.literal_eval)\n",
    "    df['rgb_histogram'] = df['rgb_histogram'].apply(lambda x: np.array(ast.literal_eval(x)))\n",
    "    return df.to_dict('records')"
   ]
  },
  {
   "attachments": {},
   "cell_type": "markdown",
   "id": "9fe19cad-91d3-4a7d-9f91-0bee071447ed",
   "metadata": {},
   "source": [
    "## WSI Retrieval"
   ]
  },
  {
   "cell_type": "code",
   "execution_count": null,
   "id": "a3516b9a-1d93-4066-86c1-b625dcd5a8fe",
   "metadata": {},
   "outputs": [],
   "source": [
    "def prepare_features_horizontal(data, test_data, extension):\n",
    "    features_dict = {}\n",
    "    for fname, feature in data.items():\n",
    "        file_name = fname.split(\"_patch\")[0] + \".svs\"\n",
    "        features_dict.setdefault(file_name, []).extend([feature])\n",
    "    \n",
    "    test_features_dict = {}\n",
    "    for fname, feature in test_data.items():\n",
    "        file_name = f'{fname.split(\"_patch\")[0]}.{extension}'\n",
    "        test_features_dict.setdefault(file_name, []).extend([feature])\n",
    "\n",
    "    return features_dict, test_features_dict"
   ]
  },
  {
   "cell_type": "code",
   "execution_count": null,
   "id": "8922509d-fe6c-4d12-9a82-bb44273b2f56",
   "metadata": {},
   "outputs": [],
   "source": [
    "def prepare_features_vertical(data, test_data, test_slide_name, site, extension):\n",
    "    features_dict = {}\n",
    "    for fname, feature in data.items():\n",
    "        file_name = fname.split(\"_patch\")[0] + \".svs\"\n",
    "        if sites_dict[metadata.loc[file_name, \"primary_site\"]] == site:\n",
    "            features_dict.setdefault(file_name, []).extend([feature])\n",
    "    \n",
    "    test_features_dict = {}\n",
    "    for fname, feature in test_data.items():\n",
    "        file_name = f'{fname.split(\"_patch\")[0]}.{extension}'\n",
    "        if file_name == test_slide_name:\n",
    "            test_features_dict.setdefault(file_name, []).extend([feature])\n",
    "\n",
    "    return features_dict, test_features_dict"
   ]
  },
  {
   "cell_type": "code",
   "execution_count": null,
   "id": "78e65df3-bc19-46f3-a851-0f4a68636889",
   "metadata": {},
   "outputs": [],
   "source": [
    "def prepare_bobs(features_dict, test_features_dict, experiment):\n",
    "    BoBs = []\n",
    "    for file_name, feature_queue in features_dict.items():\n",
    "        barcodes = (np.diff(np.array(feature_queue), n=1, axis=1) < 0) * 1\n",
    "        if file_name in metadata.index:\n",
    "            site = sites_dict[metadata.loc[file_name, \"primary_site\"]]\n",
    "            diagnosis = diagnoses_dict[metadata.loc[file_name, 'project_name']]\n",
    "        else:\n",
    "            site = None\n",
    "            diagnosis = None\n",
    "        BoBs.append(BoB(barcodes, file_name, site, diagnosis))\n",
    "    \n",
    "    test_BoBs = []\n",
    "    for file_name, feature_queue in test_features_dict.items():\n",
    "        barcodes = (np.diff(np.array(feature_queue), n=1, axis=1) < 0) * 1\n",
    "        site = experiment\n",
    "        diagnosis = experiment\n",
    "        test_BoBs.append(BoB(barcodes, file_name, site, diagnosis))\n",
    "\n",
    "    return BoBs, test_BoBs"
   ]
  },
  {
   "cell_type": "code",
   "execution_count": null,
   "id": "18c8ba7b-f314-4049-87f5-63e2ef82e9db",
   "metadata": {},
   "outputs": [],
   "source": [
    "def horizontal_search(data, test_data, extension, experiment, k):\n",
    "    features_dict, test_features_dict = prepare_features_horizontal(data, test_data, extension)\n",
    "    BoBs, test_BoBs = prepare_bobs(features_dict, test_features_dict, experiment)\n",
    "\n",
    "    distances = {}\n",
    "    for test_bob in test_BoBs:\n",
    "        for bob in BoBs:\n",
    "            distances.setdefault(test_bob, []).append((test_bob.distance(bob), bob))\n",
    "\n",
    "    results = []\n",
    "    for key, values in distances.items():\n",
    "        values.sort(key=lambda x: x[0])\n",
    "        top_k_results = values[:k]\n",
    "        results.append([key, top_k_results])\n",
    "\n",
    "    return results"
   ]
  },
  {
   "cell_type": "code",
   "execution_count": null,
   "id": "7ec97849-ca75-463e-8e99-17c2a14b16af",
   "metadata": {},
   "outputs": [],
   "source": [
    "def vertical_search(data, test_data, test_slide_name, extension, experiment, site, k):\n",
    "    features_dict, test_features_dict = prepare_features_vertical(data, test_data, test_slide_name, site, extension)\n",
    "    BoBs, test_BoBs = prepare_bobs(features_dict, test_features_dict, experiment)\n",
    "\n",
    "    distances = []\n",
    "    test_bob = test_BoBs[0]\n",
    "    for bob in BoBs:\n",
    "        distances.append((test_bob.distance(bob), bob))\n",
    "\n",
    "    distances.sort(key=lambda x: x[0])\n",
    "    top_k_results = distances[:k]\n",
    "\n",
    "    return [test_bob, top_k_results]"
   ]
  },
  {
   "cell_type": "code",
   "execution_count": null,
   "id": "b270d409-0e42-461a-aa7a-ba54681b3c4e",
   "metadata": {},
   "outputs": [],
   "source": [
    "def show_results(query, results, experiment, site_retrieval):\n",
    "    query_path = join(\"/raid/nejm_ai/TEST_DATA/\", experiment, query.file_name)\n",
    "\n",
    "    if site_retrieval:\n",
    "        save_dir = join(\"../../TEST_DATA_RESULTS\", experiment, \"search_result_images\", \"wsi_site_retrieval\", splitext(query.file_name)[0])\n",
    "    else:\n",
    "        save_dir = join(\"../../TEST_DATA_RESULTS\", experiment, \"search_result_images\", \"wsi_vertical\", splitext(query.file_name)[0])\n",
    "    makedirs(save_dir, exist_ok=True)\n",
    "    \n",
    "    query_slide = openslide.open_slide(query_path)\n",
    "    query_thumbnail = query_slide.get_thumbnail((300, 300))\n",
    "    query_slide.close()\n",
    "\n",
    "    fig = plt.figure(figsize=(20, 10))  # adjust as necessary\n",
    "\n",
    "    plt.subplot(1, len(results) + 2, 1)\n",
    "    plt.imshow(query_thumbnail)\n",
    "    plt.axis('off')  # to hide the x and y axis\n",
    "    plt.title(f\"Query\\n{query.file_name}\")\n",
    "\n",
    "    # Plot black line\n",
    "    plt.subplot(1, len(results) + 2, 2)\n",
    "    plt.plot([0, 0], [0, 1], color='black', transform=plt.gca().transAxes, linewidth=2.0)\n",
    "    plt.axis('off')\n",
    "\n",
    "    links = []\n",
    "    for i, result in enumerate(results, 2):\n",
    "        distance, bob = result\n",
    "\n",
    "        site = sites_dict[metadata.loc[bob.file_name, \"primary_site\"]]\n",
    "        diagnosis = diagnoses_dict[metadata.loc[bob.file_name, \"project_name\"]]\n",
    "        \n",
    "        path = join(\"/raid/nejm_ai/DATABASE\", site, diagnosis, bob.file_name)\n",
    "        slide = openslide.open_slide(path)\n",
    "        thumbnail = slide.get_thumbnail((300, 300))\n",
    "        slide.close()\n",
    "\n",
    "        plt.subplot(1, len(results) + 2, i)\n",
    "        plt.imshow(thumbnail)\n",
    "        plt.axis('off')  # to hide the x and y axis\n",
    "        plt.title(f'Result {i-1}: {site} - {diagnosis}\\nDistance: {distance}')  # add caption\n",
    "\n",
    "        # returning GDC link to slides\n",
    "        links.append(VIEW_URL + metadata.loc[bob.file_name, \"id\"])\n",
    "\n",
    "        # saving to file\n",
    "        thumbnail.save(join(save_dir, f\"result_{i-1}.png\"))\n",
    "\n",
    "        \n",
    "\n",
    "    plt.tight_layout()\n",
    "    plt.show()\n",
    "    \n",
    "    fig.savefig(join(save_dir, \"all.png\"), bbox_inches='tight')\n",
    "    fig.savefig(join(save_dir, \"all.eps\"), format='eps', bbox_inches='tight')\n",
    "    \n",
    "    return links"
   ]
  },
  {
   "attachments": {},
   "cell_type": "markdown",
   "id": "3b33ff85-a637-49d8-bbb6-8e4b568f910a",
   "metadata": {},
   "source": [
    "## Patch Retrieval"
   ]
  },
  {
   "cell_type": "code",
   "execution_count": null,
   "id": "a37a111d-2ab3-4e52-82ae-c4050b352f39",
   "metadata": {},
   "outputs": [],
   "source": [
    "def prepare_features_patch(data, test_data, test_patch_path, site, extension):\n",
    "    features_dict = {}\n",
    "    for fname, feature in data.items():\n",
    "        base_name = fname.split(\"_patch\")[0]\n",
    "        file_name = base_name + \".svs\"\n",
    "        patch_name = \"patch\" + fname.split(\"_patch\")[-1]\n",
    "        if sites_dict[metadata.loc[file_name, \"primary_site\"]] == site:\n",
    "            features_dict.setdefault(join(base_name, patch_name), []).extend([feature])\n",
    "    \n",
    "    test_features_dict = {}\n",
    "    for fname, feature in test_data.items():\n",
    "        base_name = fname.split(\"_patch\")[0]\n",
    "        file_name = f\"{base_name}.{extension}\"\n",
    "        patch_name = \"patch\" + fname.split(\"_patch\")[-1]\n",
    "        if file_name == basename(dirname(test_patch_path)) and patch_name == basename(test_patch_path):\n",
    "            test_features_dict.setdefault(join(base_name, patch_name), []).extend([feature])\n",
    "\n",
    "    return features_dict, test_features_dict"
   ]
  },
  {
   "cell_type": "code",
   "execution_count": null,
   "id": "76a9402c-4da4-44bf-a80f-cc985ecc319b",
   "metadata": {},
   "outputs": [],
   "source": [
    "def prepare_bobs_patch(features_dict, test_features_dict, experiment):\n",
    "    BoBs = []\n",
    "    for file_name, feature_queue in features_dict.items():\n",
    "        barcodes = (np.diff(np.array(feature_queue), n=1, axis=1) < 0) * 1\n",
    "        slide_name = file_name.split(\"/\")[0] + \".svs\"\n",
    "        if slide_name in metadata.index:\n",
    "            site = sites_dict[metadata.loc[slide_name, \"primary_site\"]]\n",
    "            diagnosis = diagnoses_dict[metadata.loc[slide_name, 'project_name']]\n",
    "        else:\n",
    "            site = None\n",
    "            diagnosis = None\n",
    "        BoBs.append(BoB(barcodes, file_name, site, diagnosis))\n",
    "    \n",
    "    test_BoBs = []\n",
    "    for file_name, feature_queue in test_features_dict.items():\n",
    "        barcodes = (np.diff(np.array(feature_queue), n=1, axis=1) < 0) * 1\n",
    "        site = experiment\n",
    "        diagnosis = experiment\n",
    "        test_BoBs.append(BoB(barcodes, file_name, site, diagnosis))\n",
    "\n",
    "    return BoBs, test_BoBs"
   ]
  },
  {
   "cell_type": "code",
   "execution_count": null,
   "id": "53ea27be-7153-461f-939b-488f33fbf3d5",
   "metadata": {},
   "outputs": [],
   "source": [
    "def vertical_search_patch(data, test_data, test_patch_path, site, experiment, extension, k):\n",
    "    features_dict, test_features_dict = prepare_features_patch(data, test_data, test_patch_path, site, extension)\n",
    "    BoBs, test_BoBs = prepare_bobs_patch(features_dict, test_features_dict, experiment)\n",
    "\n",
    "    distances = []\n",
    "    test_bob = test_BoBs[0]\n",
    "    for bob in BoBs:\n",
    "        distances.append((test_bob.distance(bob), bob))\n",
    "\n",
    "    distances.sort(key=lambda x: x[0])\n",
    "    top_k_results = distances[:k]\n",
    "\n",
    "    return [test_bob, top_k_results]"
   ]
  },
  {
   "cell_type": "code",
   "execution_count": null,
   "id": "bd0b0660-22d9-4add-8d2a-f557811c0340",
   "metadata": {},
   "outputs": [],
   "source": [
    "def show_results_patch(query, results, experiment):\n",
    "    query_path = join(TEST_QUERY_PATCHES_DIR, query.file_name)\n",
    "\n",
    "    save_dir = join(\"../../TEST_DATA_RESULTS\", experiment, \"search_result_images\", \"patch_retrieval\", splitext(query.file_name)[0])\n",
    "    makedirs(save_dir, exist_ok=True)\n",
    "    \n",
    "    query_thumbnail = Image.open(query_path)\n",
    "    \n",
    "    fig = plt.figure(figsize=(20, 10), dpi=1200)  # adjust as necessary\n",
    "\n",
    "    plt.subplot(1, len(results) + 2, 1)\n",
    "    plt.imshow(np.array(query_thumbnail))\n",
    "    plt.axis('off')  # to hide the x and y axis\n",
    "    plt.title(f\"Query\\n{query.file_name}\")\n",
    "\n",
    "    # Plot black line\n",
    "    plt.subplot(1, len(results) + 2, 2)\n",
    "    plt.plot([0, 0], [0, 1], color='black', transform=plt.gca().transAxes, linewidth=2.0)\n",
    "    plt.axis('off')\n",
    "\n",
    "    links = []\n",
    "    for i, result in enumerate(results, 2):\n",
    "        distance, bob = result\n",
    "        site = bob.site\n",
    "        diagnosis = bob.diagnosis\n",
    "        slide_path, patch_str = bob.file_name.split(\"/\")\n",
    "        x, y = splitext(patch_str)[0].split(\"_\")[1:]\n",
    "        mosaic_path = join(PATCHES_DIR, site, diagnosis, slide_path, \"mosaic.h5\")\n",
    "        mosaic = load_mosaic(mosaic_path)\n",
    "        patch = [mosaic[i] for i in range(len(mosaic)) if mosaic[i]['loc'] == [int(x), int(y)]][0]\n",
    "        slide_path = join(\"/raid/nejm_ai/DATABASE\", site, diagnosis, slide_path + \".svs\")\n",
    "        slide = openslide.open_slide(slide_path)\n",
    "        try:\n",
    "            objective_power = int(slide.properties['openslide.objective-power'])\n",
    "        except KeyError:\n",
    "            objective_power = 20\n",
    "        h, w = patch['wsi_loc']\n",
    "        patch_size_20x = int((objective_power/20.)*1000)\n",
    "        patch_region = slide.read_region((w, h), 0, (patch_size_20x, patch_size_20x))\n",
    "        if objective_power == 40:\n",
    "            new_size = (patch_size_20x // 2, patch_size_20x // 2)\n",
    "            patch_region = patch_region.resize(new_size)\n",
    "\n",
    "        plt.subplot(1, len(results) + 2, i)\n",
    "        plt.imshow(patch_region.convert('RGB'))\n",
    "        plt.axis('off')  # to hide the x and y axis\n",
    "        plt.title(f'Result {i-1}: {site} - {diagnosis}\\nDistance: {distance}')  # add caption\n",
    "\n",
    "        # returning GDC link to slides\n",
    "        id = metadata.loc[bob.file_name.split(\"/\")[0] + \".svs\", \"id\"]\n",
    "        links.append(VIEW_URL + id)\n",
    "\n",
    "        # saving to file\n",
    "        patch_region.save(join(save_dir, f\"result_{i-1}.png\"))\n",
    "\n",
    "    plt.tight_layout()\n",
    "    plt.show()\n",
    "    \n",
    "    fig.savefig(join(save_dir, \"all.png\"),  dpi='figure', bbox_inches='tight')\n",
    "    fig.savefig(join(save_dir, \"all.eps\"), format='eps', dpi='figure', bbox_inches='tight')\n",
    "    fig.savefig(join(save_dir, \"all.pdf\"), format='pdf', dpi='figure', bbox_inches='tight')\n",
    "    \n",
    "    return links"
   ]
  },
  {
   "cell_type": "markdown",
   "id": "979d169f-543b-471c-baa6-4da1783702b2",
   "metadata": {},
   "source": [
    "## Metrics"
   ]
  },
  {
   "cell_type": "code",
   "execution_count": null,
   "id": "1c7f2466-4206-4ab1-bf79-299af77f24fe",
   "metadata": {},
   "outputs": [],
   "source": [
    "def get_raw_metrics(results, experiment, site=False):\n",
    "    save_dir = join(\"../../TEST_DATA_RESULTS\", experiment, \"raw_metrics\")\n",
    "    makedirs(save_dir, exist_ok=True)\n",
    "    \n",
    "    records = []\n",
    "    for result in results:\n",
    "        query, returned = result\n",
    "        temp = []\n",
    "        temp.extend([query.file_name, query_slides[query.file_name], true_diagnosis[query.file_name]])\n",
    "        for r in returned:\n",
    "            temp.extend([r[1].file_name, r[1].site, r[1].diagnosis, r[0]])\n",
    "        records.append(temp)\n",
    "        \n",
    "    columns = [\"query_name\", \"query_site\", \"query_diagnosis\"]\n",
    "    if site:\n",
    "        [columns.extend([f\"ret_{i}_name\", f\"ret_{i}_site\", f\"ret_{i}_diagnosis\", f\"ret_{i}_dist\"]) for i in range(1, 11)]\n",
    "        df = pd.DataFrame.from_records(records, columns=columns)\n",
    "        df.to_csv(join(save_dir, \"site.csv\"), index=False)\n",
    "    else:\n",
    "        [columns.extend([f\"ret_{i}_name\", f\"ret_{i}_site\", f\"ret_{i}_diagnosis\", f\"ret_{i}_dist\"]) for i in range(1, 6)]\n",
    "        df = pd.DataFrame.from_records(records, columns=columns)\n",
    "        df.to_csv(join(save_dir, \"sub_type.csv\"), index=False)"
   ]
  },
  {
   "attachments": {},
   "cell_type": "markdown",
   "id": "6673c06e-940f-40a4-933d-89c89010b23e",
   "metadata": {},
   "source": [
    "# Inputs"
   ]
  },
  {
   "cell_type": "code",
   "execution_count": null,
   "id": "8aae917e-a008-447b-815e-22b3ea74211e",
   "metadata": {},
   "outputs": [],
   "source": [
    "with open('../../FEATURES/DATABASE/features.pkl', 'rb') as f:\n",
    "    data = pickle.load(f)\n",
    "\n",
    "with open('../../FEATURES/TEST_DATA/BRCA_HER2/features.pkl', 'rb') as f:\n",
    "    test_data = pickle.load(f)"
   ]
  },
  {
   "attachments": {},
   "cell_type": "markdown",
   "id": "bbdc3b6f-dc18-4555-93b5-3350f4384aa5",
   "metadata": {},
   "source": [
    "# Global variables"
   ]
  },
  {
   "cell_type": "code",
   "execution_count": null,
   "id": "399f88ca-045f-4bf9-ae6b-41ba7537a1a9",
   "metadata": {},
   "outputs": [],
   "source": [
    "VIEW_URL = \"https://portal.gdc.cancer.gov/files/\"\n",
    "PATCHES_DIR = \"../../FEATURES/DATABASE/PATCHES\" \n",
    "TEST_PATCHES_DIR = \"../../FEATURES/TEST_DATA/BRCA_HER2/PATCHES/\"\n",
    "TEST_QUERY_PATCHES_DIR = \"../../FEATURES/TEST_DATA/BRCA_HER2/QUERY_PATCHES/\"\n",
    "\n",
    "experiment = \"BRCA_HER2\"\n",
    "extension = \"svs\""
   ]
  },
  {
   "cell_type": "code",
   "execution_count": null,
   "id": "334f26ad-cf55-4663-9bbf-817c6b07b9fd",
   "metadata": {},
   "outputs": [],
   "source": [
    "metadata = pd.read_csv(\"../../FEATURES/DATABASE/sampled_metadata.csv\")\n",
    "metadata = metadata.set_index('file_name')"
   ]
  },
  {
   "cell_type": "code",
   "execution_count": null,
   "id": "dd3911ef-98e3-405c-87f8-f8ba57e5d3c0",
   "metadata": {},
   "outputs": [],
   "source": [
    "diagnoses_dict = {\n",
    "    \"Brain Lower Grade Glioma\": \"LGG\",\n",
    "    \"Glioblastoma Multiforme\": \"GBM\",\n",
    "    \"Breast Invasive Carcinoma\": \"BRCA\",\n",
    "    \"Lung Adenocarcinoma\": \"LUAD\",\n",
    "    \"Lung Squamous Cell Carcinoma\": \"LUSC\",\n",
    "    \"Colon Adenocarcinoma\": \"COAD\",\n",
    "    \"Liver Hepatocellular Carcinoma\": \"LIHC\",\n",
    "    \"Cholangiocarcinoma\": \"CHOL\",\n",
    "}\n",
    "\n",
    "sites_dict = {\n",
    "    \"Brain\": \"brain\",\n",
    "    \"Breast\": \"breast\",\n",
    "    \"Bronchus and lung\": \"lung\",\n",
    "    \"Colon\": \"colon\",\n",
    "    \"Liver and intrahepatic bile ducts\": \"liver\",\n",
    "}\n",
    "\n",
    "sites_diagnoses_dict = {\n",
    "    \"brain\": [\"LGG\", \"GBM\"],\n",
    "    \"breast\": [\"BRCA\"],\n",
    "    \"lung\": [\"LUAD\", \"LUSC\"],\n",
    "    \"colon\": [\"COAD\"],\n",
    "    \"liver\": [\"LIHC\", \"CHOL\"],\n",
    "}"
   ]
  },
  {
   "cell_type": "code",
   "execution_count": null,
   "id": "2b77731a-daf1-4148-b8a0-b8f9fc59de22",
   "metadata": {},
   "outputs": [],
   "source": [
    "with open(f\"../../FEATURES/TEST_DATA/{experiment}/query_slides.yaml\", 'r') as f:\n",
    "    query_slides = yaml.safe_load(f)\n",
    "\n",
    "true_diagnosis = dict()\n",
    "for key in query_slides.keys():\n",
    "    true_diagnosis[key] = \"BRCA\""
   ]
  },
  {
   "attachments": {},
   "cell_type": "markdown",
   "id": "bed08c77-b9ca-410e-93ad-af92a50d3d73",
   "metadata": {},
   "source": [
    "# WSI Retrieval\n",
    "## Site Retrieval"
   ]
  },
  {
   "cell_type": "code",
   "execution_count": null,
   "id": "d4830a19-6884-446d-b3be-1f06af44cadd",
   "metadata": {},
   "outputs": [],
   "source": [
    "# Returning top k in a median of min distance sense\n",
    "k = 5\n",
    "site_retrieval = True\n",
    "\n",
    "results = horizontal_search(data, test_data, extension, experiment, k)\n",
    "for (key, top_k_results) in results:\n",
    "    links = show_results(key, top_k_results, experiment, site_retrieval)\n",
    "    print(links)"
   ]
  },
  {
   "attachments": {},
   "cell_type": "markdown",
   "id": "ede96a91-162d-4dd9-bc80-c7fe5ca9fd5b",
   "metadata": {},
   "source": [
    "## Sub-Type Retrieval"
   ]
  },
  {
   "cell_type": "code",
   "execution_count": null,
   "id": "761df98b-aa17-44cf-aa77-d60c6e3762ca",
   "metadata": {},
   "outputs": [],
   "source": [
    "k = 5\n",
    "site_retrieval = False\n",
    "\n",
    "for query, site in query_slides.items():\n",
    "    key, top_k_results = vertical_search(data, test_data, query, extension, experiment, site, k)\n",
    "    links = show_results(key, top_k_results, experiment, site_retrieval)\n",
    "    print(links)"
   ]
  },
  {
   "cell_type": "markdown",
   "id": "d4405b18-fdb1-4658-ba3b-8fe578127072",
   "metadata": {},
   "source": [
    "# Metrics"
   ]
  },
  {
   "cell_type": "code",
   "execution_count": null,
   "id": "167631a8-ac8b-416b-9d5f-073d02e613ed",
   "metadata": {},
   "outputs": [],
   "source": [
    "k = 10\n",
    "site_retrieval = True\n",
    "results = horizontal_search(data, test_data, extension, experiment, k)\n",
    "\n",
    "get_raw_metrics(results, experiment, site=site_retrieval)"
   ]
  },
  {
   "cell_type": "code",
   "execution_count": null,
   "id": "c608d3d8-44a3-43b6-a60d-242624f014aa",
   "metadata": {},
   "outputs": [],
   "source": [
    "k = 5\n",
    "site_retrieval = False\n",
    "\n",
    "results = []\n",
    "for query, site in query_slides.items():\n",
    "    key, top_k_results = vertical_search(data, test_data, query, extension, experiment, site, k)\n",
    "    results.append([key, top_k_results])\n",
    "\n",
    "get_raw_metrics(results, experiment, site=site_retrieval)"
   ]
  },
  {
   "cell_type": "code",
   "execution_count": null,
   "id": "7264745e-4da7-460a-8ecf-278fc70550c1",
   "metadata": {},
   "outputs": [],
   "source": []
  }
 ],
 "metadata": {
  "kernelspec": {
   "display_name": "Python 3 (ipykernel)",
   "language": "python",
   "name": "python3"
  },
  "language_info": {
   "codemirror_mode": {
    "name": "ipython",
    "version": 3
   },
   "file_extension": ".py",
   "mimetype": "text/x-python",
   "name": "python",
   "nbconvert_exporter": "python",
   "pygments_lexer": "ipython3",
   "version": "3.10.12"
  }
 },
 "nbformat": 4,
 "nbformat_minor": 5
}
