version https://git-lfs.github.com/spec/v1
oid sha256:589da8f10a067c4cb89b6ce733248300c5bbf2a2b07acf03712bd2e7caabc124
size 27243
