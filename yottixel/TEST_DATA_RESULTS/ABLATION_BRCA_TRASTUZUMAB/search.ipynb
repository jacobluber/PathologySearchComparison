version https://git-lfs.github.com/spec/v1
oid sha256:c1642a551a11c01890774c8b4a5915c14e1c00666167b1818a6cc435690d7172
size 24923
