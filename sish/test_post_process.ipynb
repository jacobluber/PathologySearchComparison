{
 "cells": [
  {
   "cell_type": "code",
   "execution_count": 1,
   "id": "3d77ac3e-b8ac-48e8-b257-e58b7268a682",
   "metadata": {},
   "outputs": [],
   "source": [
    "from os.path import basename, splitext\n",
    "import h5py\n",
    "from PIL import Image\n",
    "import numpy as np\n",
    "\n",
    "Image.MAX_IMAGE_PIXELS = None"
   ]
  },
  {
   "cell_type": "markdown",
   "id": "5c936456-fe28-43aa-8a39-bb0158d705ee",
   "metadata": {},
   "source": [
    "# Combining Patchs"
   ]
  },
  {
   "cell_type": "code",
   "execution_count": 2,
   "id": "364f2a87-8840-4688-835c-7b715ef4339c",
   "metadata": {},
   "outputs": [],
   "source": [
    "def combine_h5_files(input_paths, output_path):\n",
    "    output_file = h5py.File(output_path, 'a')\n",
    "\n",
    "    for input_path in input_paths:\n",
    "        i = int(splitext(basename(input_path))[0][-1])\n",
    "        input_file = h5py.File(input_path, 'r')\n",
    "        \n",
    "        for key in input_file.keys():\n",
    "            input_data = input_file[key][...]\n",
    "            new_input_data = []\n",
    "            for x, y in input_data:\n",
    "                # since we have divided the image in 4 parts\n",
    "                new_input_data.append(np.array([x + i * 21671, y]))\n",
    "            new_input_data = np.array(new_input_data)\n",
    "            data_shape = new_input_data.shape\n",
    "            \n",
    "            if key in output_file:\n",
    "                dset = output_file[key]\n",
    "                dset.resize(len(dset) + data_shape[0], axis=0)\n",
    "                dset[-data_shape[0]:] = new_input_data\n",
    "            else:\n",
    "                data_type = new_input_data.dtype\n",
    "                chunk_shape = (1, ) + data_shape[1:]\n",
    "                maxshape = (None, ) + data_shape[1:]\n",
    "                dset = output_file.create_dataset(key, shape=data_shape, maxshape=maxshape, chunks=chunk_shape, dtype=data_type)\n",
    "                dset[:] = new_input_data\n",
    "                \n",
    "            for attr_key, attr_val in input_file[key].attrs.items():\n",
    "                dset.attrs[attr_key] = attr_val\n",
    "        \n",
    "        input_file.close()\n",
    "\n",
    "    output_file.close()\n",
    "    return output_path"
   ]
  },
  {
   "cell_type": "code",
   "execution_count": null,
   "id": "0be62719-f671-4013-a74f-6d273d011346",
   "metadata": {
    "tags": []
   },
   "outputs": [],
   "source": [
    "file_list = [f\"/home/mxn2498/projects/search_comparision/sish_new_test/DATA/PATCHES/unknown/unknown/20x/patches/slide2_{i}.h5\" for i in range(4)]\n",
    "output = \"/home/mxn2498/projects/search_comparision/sish_new_test/DATA/PATCHES/unknown/unknown/20x/patches/slide2.h5\"\n",
    "combine_h5_files(file_list, output)"
   ]
  },
  {
   "cell_type": "code",
   "execution_count": null,
   "id": "49057002-f4a3-44e6-a0e6-bd818d92163d",
   "metadata": {
    "tags": []
   },
   "outputs": [],
   "source": [
    "for file in file_list:\n",
    "    with h5py.File(file, 'r') as f:\n",
    "        # Copy all groups and datasets from the current file to the output file\n",
    "        for name in f:\n",
    "            print(f[name])\n",
    "            \n",
    "with h5py.File(output, 'r') as f:\n",
    "    # Copy all groups and datasets from the current file to the output file\n",
    "    for name in f:\n",
    "        print(f[name])"
   ]
  },
  {
   "cell_type": "markdown",
   "id": "a434a47f-272e-4f9f-8c01-db3f4dd2e1c5",
   "metadata": {},
   "source": [
    "# Combining Masks"
   ]
  },
  {
   "cell_type": "code",
   "execution_count": null,
   "id": "43b49de2-65b4-405f-8fc6-6da5149ae3d3",
   "metadata": {
    "tags": []
   },
   "outputs": [],
   "source": [
    "# images = []\n",
    "# sizes = []\n",
    "# for i in range(4):\n",
    "#     path = f\"/home/mxn2498/projects/search_comparision/retccl/DATA/PATCHES/unknown/unknown/20x/masks/slide2_{i}.jpg\"\n",
    "#     image = Image.open(path)\n",
    "#     images.append(image)\n",
    "#     sizes.append(image.size)\n",
    "\n",
    "# new_image = Image.new('RGB', (sizes[0][0], sum([sizes[i][1] for i in range(4)])))\n",
    "# for i in range(4):\n",
    "#     new_image.paste(images[i], (0, sum([sizes[i][1] for j in range(i)])))\n",
    "\n",
    "# save_path = f\"/home/mxn2498/projects/search_comparision/retccl/DATA/PATCHES/unknown/unknown/20x/masks/slide2.jpg\"\n",
    "# new_image.save(save_path, \"JPEG\")"
   ]
  }
 ],
 "metadata": {
  "kernelspec": {
   "display_name": "Python 3 (ipykernel)",
   "language": "python",
   "name": "python3"
  },
  "language_info": {
   "codemirror_mode": {
    "name": "ipython",
    "version": 3
   },
   "file_extension": ".py",
   "mimetype": "text/x-python",
   "name": "python",
   "nbconvert_exporter": "python",
   "pygments_lexer": "ipython3",
   "version": "3.10.10"
  }
 },
 "nbformat": 4,
 "nbformat_minor": 5
}
