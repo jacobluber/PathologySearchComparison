{
 "cells": [
  {
   "cell_type": "code",
   "execution_count": 1,
   "id": "af15c47e-bae3-49c5-8dcb-87efbfb8d041",
   "metadata": {
    "tags": []
   },
   "outputs": [],
   "source": [
    "import requests\n",
    "import json\n",
    "import io\n",
    "import pickle\n",
    "\n",
    "import pandas as pd"
   ]
  },
  {
   "cell_type": "markdown",
   "id": "3b95ab70-dc62-4c88-8d9d-8b1dba7f60b8",
   "metadata": {},
   "source": [
    "# Manifest"
   ]
  },
  {
   "cell_type": "code",
   "execution_count": 2,
   "id": "4e8dbfd2-959c-4f6b-b928-4dc809c2c5c9",
   "metadata": {},
   "outputs": [],
   "source": [
    "metadata = pd.read_csv(\"sampled_metadata.csv\")"
   ]
  },
  {
   "cell_type": "code",
   "execution_count": 3,
   "id": "057bc27d-c643-4bb3-9dfb-c761a223ee28",
   "metadata": {
    "tags": []
   },
   "outputs": [],
   "source": [
    "name_dict = {\n",
    "    'cases.0.primary_site': 'primary_site',\n",
    "    'file_name': 'filename',\n",
    "    'file_size': 'size',\n",
    "    'md5sum': 'md5'\n",
    "}\n",
    "\n",
    "cols = ['id', 'filename', 'md5', 'size', 'state']"
   ]
  },
  {
   "cell_type": "code",
   "execution_count": 4,
   "id": "5317c85d-074c-46b7-ac3c-dd295e8acacf",
   "metadata": {
    "tags": []
   },
   "outputs": [],
   "source": [
    "manifest = metadata.rename(name_dict, axis='columns')\n",
    "manifest = manifest[cols]"
   ]
  },
  {
   "cell_type": "code",
   "execution_count": 5,
   "id": "01e0d73c-4f47-4a5e-a7e9-ffa024fe4978",
   "metadata": {
    "tags": []
   },
   "outputs": [],
   "source": [
    "manifest.to_csv('download_manifest.txt', sep='\\t', index=False)"
   ]
  }
 ],
 "metadata": {
  "kernelspec": {
   "display_name": "Python 3 (ipykernel)",
   "language": "python",
   "name": "python3"
  },
  "language_info": {
   "codemirror_mode": {
    "name": "ipython",
    "version": 3
   },
   "file_extension": ".py",
   "mimetype": "text/x-python",
   "name": "python",
   "nbconvert_exporter": "python",
   "pygments_lexer": "ipython3",
   "version": "3.10.12"
  }
 },
 "nbformat": 4,
 "nbformat_minor": 5
}
