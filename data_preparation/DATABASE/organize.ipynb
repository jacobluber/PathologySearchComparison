{
 "cells": [
  {
   "cell_type": "code",
   "execution_count": null,
   "id": "f4918a00-2215-4073-8808-ba9fd4b62f5d",
   "metadata": {},
   "outputs": [],
   "source": [
    "import os\n",
    "import pandas as pd\n",
    "import shutil"
   ]
  },
  {
   "cell_type": "code",
   "execution_count": null,
   "id": "c0162cb2-b1f7-4894-9d15-e3356a625a6b",
   "metadata": {},
   "outputs": [],
   "source": [
    "# Path to the CSV file\n",
    "csv_file_path = 'sampled_metadata.csv'  # Update this with your actual CSV file path\n",
    "\n",
    "# Base directory where the slides are stored and where new subdirs will be created\n",
    "base_dir = '/home/mxn2498/projects/PathologySearchComparison/DATA/DATABASE'\n",
    "\n",
    "# Read the CSV file\n",
    "df = pd.read_csv(csv_file_path)\n",
    "\n",
    "# Mapping for primary_site to directory names\n",
    "primary_site_mapping = {\n",
    "    \"Brain\": \"brain\",\n",
    "    \"Breast\": \"breast\",\n",
    "    \"Liver and intrahepatic bile ducts\": \"liver\",\n",
    "    \"Bronchus and lung\": \"lung\",\n",
    "    \"Colon\": \"colon\"\n",
    "}\n",
    "\n",
    "# Mapping for project_name to subdirectory names\n",
    "project_name_mapping = {\n",
    "    \"Glioblastoma Multiforme\": \"GBM\",\n",
    "    \"Brain Lower Grade Glioma\": \"LGG\",\n",
    "    \"Breast Invasive Carcinoma\": \"BRCA\",\n",
    "    \"Lung Adenocarcinoma\": \"LUAD\",\n",
    "    \"Lung Squamous Cell Carcinoma\": \"LUSC\",\n",
    "    \"Colon Adenocarcinoma\": \"COAD\",\n",
    "    \"Liver Hepatocellular Carcinoma\": \"LIHC\",\n",
    "    \"Cholangiocarcinoma\": \"CHOL\"\n",
    "}"
   ]
  },
  {
   "cell_type": "code",
   "execution_count": null,
   "id": "0c5d6034-a280-478b-9530-d69289b3f753",
   "metadata": {},
   "outputs": [],
   "source": [
    "# Ensure base directories and subdirectories exist\n",
    "for dir_name in primary_site_mapping.values():\n",
    "    dir_path = os.path.join(base_dir, dir_name)\n",
    "    if not os.path.exists(dir_path):\n",
    "        os.makedirs(dir_path)\n",
    "    for project, subdir in project_name_mapping.items():\n",
    "        subdir_path = os.path.join(dir_path, subdir)\n",
    "        if not os.path.exists(subdir_path):\n",
    "            os.makedirs(subdir_path)\n",
    "\n",
    "# Move files based on primary_site and project_name\n",
    "for index, row in df.iterrows():\n",
    "    primary_site_dir = primary_site_mapping.get(row['primary_site'])\n",
    "    project_subdir = project_name_mapping.get(row['project_name'])\n",
    "    if primary_site_dir and project_subdir:\n",
    "        source_path = os.path.join(base_dir, str(row['id']), row['file_name'])\n",
    "        target_dir = os.path.join(base_dir, primary_site_dir, project_subdir)\n",
    "        target_path = os.path.join(target_dir, row['file_name'])\n",
    "        \n",
    "        if os.path.exists(source_path):\n",
    "            shutil.move(source_path, target_path)\n",
    "            # Delete the id folder, ignoring if it's empty or not\n",
    "            id_dir_path = os.path.dirname(source_path)\n",
    "            shutil.rmtree(id_dir_path, ignore_errors=True)"
   ]
  },
  {
   "cell_type": "code",
   "execution_count": null,
   "id": "6f4935ab-26a5-4f83-8afc-aef6f6c9f577",
   "metadata": {},
   "outputs": [],
   "source": []
  }
 ],
 "metadata": {
  "kernelspec": {
   "display_name": "Python 3 (ipykernel)",
   "language": "python",
   "name": "python3"
  },
  "language_info": {
   "codemirror_mode": {
    "name": "ipython",
    "version": 3
   },
   "file_extension": ".py",
   "mimetype": "text/x-python",
   "name": "python",
   "nbconvert_exporter": "python",
   "pygments_lexer": "ipython3",
   "version": "3.10.12"
  }
 },
 "nbformat": 4,
 "nbformat_minor": 5
}
