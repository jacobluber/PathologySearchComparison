{
 "cells": [
  {
   "cell_type": "code",
   "execution_count": 1,
   "id": "e6155204-8829-4f5d-904d-ed57a46b6a58",
   "metadata": {
    "tags": []
   },
   "outputs": [],
   "source": [
    "from os import listdir\n",
    "from os.path import join\n",
    "\n",
    "import numpy as np\n",
    "from openslide import open_slide\n",
    "from matplotlib import pyplot as plt"
   ]
  },
  {
   "cell_type": "code",
   "execution_count": 2,
   "id": "db4e5c35-6896-4a2f-8438-99dcdf0d1200",
   "metadata": {
    "tags": []
   },
   "outputs": [],
   "source": [
    "test_dir = \"/raid/nejm_ai/TEST_DATA/\"\n",
    "\n",
    "dataset_names = [\n",
    "    'UCLA',\n",
    "    'CMB_CRC',\n",
    "    'PKG_Biobank_CMB_LCA_v1',\n",
    "    'PKG_CPTAC_GBM_Pathology_v15',\n",
    "    'PKG_HER2_Tumor_ROIs_v3',\n",
    "    'PKG_UPENN_GBM',\n",
    "]"
   ]
  },
  {
   "cell_type": "markdown",
   "id": "c37ddae9-c7f4-405d-bfe3-1e2f48c13647",
   "metadata": {},
   "source": [
    "# UCLA"
   ]
  },
  {
   "cell_type": "code",
   "execution_count": 3,
   "id": "453eaa65-20ae-4909-abb5-51da91ee2672",
   "metadata": {},
   "outputs": [
    {
     "data": {
      "text/plain": [
       "3"
      ]
     },
     "execution_count": 3,
     "metadata": {},
     "output_type": "execute_result"
    }
   ],
   "source": [
    "dir = join(test_dir, dataset_names[0])\n",
    "len(listdir(dir))"
   ]
  },
  {
   "cell_type": "markdown",
   "id": "7f7ab531-4e20-44c6-9e43-8454560ba37b",
   "metadata": {
    "tags": []
   },
   "source": [
    "# CMB_CRC\n",
    "\n",
    "The Cancer Moonshot Biobank is a National Cancer Institute initiative to support current and future investigations into drug resistance and sensitivity and other NCI-sponsored cancer research initiatives, with an aim of improving researchers' understanding of cancer and how to intervene in cancer initiation and progression. During the course of this study, biospecimens (blood and tissue removed during medical procedures) and associated data will be collected longitudinally from at least 1000 patients across at least 10 cancer types, who represent the demographic diversity of the U.S. and receiving standard of care cancer treatment at multiple NCI Community Oncology Research Program (NCORP) sites.\n",
    "\n",
    "This collection contains de-identified radiology and histopathology imaging procured from subjects in NCI’s Cancer Moonshot Biobank-Colorectal Cancer (CMB-CRC) cohort. Associated genomic, phenotypic and clinical data will be hosted by The Database of Genotypes and Phenotypes (dbGaP) and other NCI databases.  A summary of Cancer Moonshot Biobank imaging efforts can be found on the Cancer Moonshot Biobank Imaging page.\n",
    "\n",
    "https://wiki.cancerimagingarchive.net/pages/viewpage.action?pageId=93257955"
   ]
  },
  {
   "cell_type": "code",
   "execution_count": 4,
   "id": "883d36e7-48ea-4760-ab10-95b9415d9ae8",
   "metadata": {
    "tags": []
   },
   "outputs": [
    {
     "data": {
      "text/plain": [
       "31"
      ]
     },
     "execution_count": 4,
     "metadata": {},
     "output_type": "execute_result"
    }
   ],
   "source": [
    "dir = join(test_dir, dataset_names[1])\n",
    "len(listdir(dir))"
   ]
  },
  {
   "cell_type": "markdown",
   "id": "10ce399d-dcfd-4e93-86d1-c73fe60a2f31",
   "metadata": {
    "tags": []
   },
   "source": [
    "# PKG_Biobank_CMB-LCA_v1\n",
    "\n",
    "The Cancer Moonshot Biobank is a National Cancer Institute initiative to support current and future investigations into drug resistance and sensitivity and other NCI-sponsored cancer research initiatives, with an aim of improving researchers' understanding of cancer and how to intervene in cancer initiation and progression. During the course of this study, biospecimens (blood and tissue removed during medical procedures) and associated data will be collected longitudinally from at least 1000 patients across at least 10 cancer types, who represent the demographic diversity of the U.S. and receiving standard of care cancer treatment at multiple NCI Community Oncology Research Program (NCORP) sites.\n",
    "\n",
    "This collection contains de-identified radiology and histopathology imaging procured from subjects in NCI’s Cancer Moonshot Biobank-Lung Cancer (CMB-LCA) cohort. Associated genomic, phenotypic and clinical data will be hosted by The Database of Genotypes and Phenotypes (dbGaP) and other NCI databases. A summary of Cancer Moonshot Biobank imaging efforts can be found on the Cancer Moonshot Biobank Imaging page.\n",
    "\n",
    "https://wiki.cancerimagingarchive.net/pages/viewpage.action?pageId=93258420"
   ]
  },
  {
   "cell_type": "code",
   "execution_count": 5,
   "id": "d3aec5dc-fdc6-4154-ab61-0a5acee4f262",
   "metadata": {
    "tags": []
   },
   "outputs": [
    {
     "data": {
      "text/plain": [
       "13"
      ]
     },
     "execution_count": 5,
     "metadata": {},
     "output_type": "execute_result"
    }
   ],
   "source": [
    "dir = join(test_dir, dataset_names[2], 'CMB-LCA')\n",
    "len(listdir(dir))"
   ]
  },
  {
   "cell_type": "markdown",
   "id": "028aacf7-551b-4ab3-95c1-1ad9aa50024d",
   "metadata": {
    "tags": []
   },
   "source": [
    "# PKG_CPTAC-GBM_Pathology_v15\n",
    "\n",
    "This collection contains subjects from the National Cancer Institute’s Clinical Proteomic Tumor Analysis Consortium Glioblastoma Multiforme (CPTAC-GBM) cohort. The GBM confirmatory cohort was supplemented with retrospective samples from CHOP (Children’s hospital of Philadelphia)-Upenn. CPTAC is a national effort to accelerate the understanding of the molecular basis of cancer through the application of large-scale proteome and genome analysis, or proteogenomics. Radiology and pathology images from CPTAC patients are being collected and made publicly available by The Cancer Imaging Archive to enable researchers to investigate cancer phenotypes which may correlate to corresponding proteomic, genomic and clinical data.\n",
    "\n",
    "Imaging from each cancer type will be contained in its own TCIA Collection, with the collection name \"CPTAC-cancertype\".  Radiology imaging is collected from standard of care imaging performed on patients immediately before the pathological diagnosis, and from follow-up scans where available.  For this reason the radiology image data sets are heterogeneous in terms of scanner modalities, manufacturers and acquisition protocols. Pathology imaging is collected as part of the CPTAC qualification workflow.  \n",
    "\n",
    "All CPTAC cohorts are released as either a single combined cohort, or split into Discovery and Confirmatory where applicable.  There are two main types of proteomic studies: discovery proteomics and targeted proteomics. The term \"discovery proteomics\" is in reference to \"untargeted\" identification and quantification of a maximal number of proteins in a biological or clinical sample. The term “targeted proteomics” refers to quantitative measurements on a defined subset of total proteins in a biological or clinical sample, often following the completion of discovery proteomics studies to confirm interesting targets selected. Commonly used proteomic technologies and platforms are different types of mass spectrometry and protein microarrays depending on the needs, throughput and sample input requirement of an analysis, with further development on nanotechnologies and automation in the pipeline in order to improve the detection of low abundance proteins, increase throughput, and selectively reach a target protein in vivo.  Once the protein targets of interest are identified, high-throughput targeted assays are developed for confirmatory studies: tests to affirm that the initial tests were accurate. A summary of CPTAC imaging efforts can be found on the CPTAC Imaging Proteomics page. \n",
    "CPTAC Imaging Special Interest Group\n",
    "You can join the CPTAC Imaging Special Interest Group to be notified of webinars & data releases, collaborate on common data wrangling tasks and seek out partners to explore research hypotheses!  Artifacts from previous webinars such as slide decks and video recordings can be found on the CPTAC SIG Webinars page.\n",
    "\n",
    "https://wiki.cancerimagingarchive.net/pages/viewpage.action?pageId=30671232"
   ]
  },
  {
   "cell_type": "code",
   "execution_count": 6,
   "id": "d57f9c2d-8161-46ce-b67b-32ae767eec5c",
   "metadata": {
    "tags": []
   },
   "outputs": [
    {
     "data": {
      "text/plain": [
       "462"
      ]
     },
     "execution_count": 6,
     "metadata": {},
     "output_type": "execute_result"
    }
   ],
   "source": [
    "dir = join(test_dir, dataset_names[3], 'GBM')\n",
    "len(listdir(dir))"
   ]
  },
  {
   "cell_type": "markdown",
   "id": "3d7fd94f-3e48-403b-b0bf-de77a45fec57",
   "metadata": {},
   "source": [
    "# PKG_HER2_Tumor_ROIs_v3\n",
    "\n",
    "The current standard of care for many patients with HER2-positive breast cancer is neoadjuvant chemotherapy in combination with anti-HER2 agents, based on HER2 amplification as detected by in situ hybridization (ISH) or protein immunohistochemistry (IHC). However, hematoxylin & eosin (H&E) tumor stains are more commonly available, and accurate prediction of HER2 status and anti-HER2 treatment response from H&E would reduce costs and increase the speed of treatment selection. Computational algorithms for H&E have been effective in predicting a variety of cancer features and clinical outcomes, including moderate success in predicting HER2 status. We trained a CNN classifier on 188 H&E whole slide images (WSIs) manually annotated for tumor regions of interest (ROIs) by our pathology team. Our classifier achieved an area under the curve (AUC) of 0.90 in cross-validation of slide-level HER2 status and 0.81 on an independent TCGA test set. Moreover, we trained our classifier on pre-treatment samples from 187 HER2+ patients that subsequently received trastuzumab therapy. Our classifier achieved an AUC of 0.80 in a five-fold cross validation. Our work provides an H&E-based algorithm that can predict HER2 status and trastuzumab response in breast cancer at an accuracy that may benefit clinical evaluations. Here, we are providing the datasets used in the study to facilitate development of other HER2+ diagnosis and trastuzumab response applications.\n",
    "Data annotation\n",
    "Annotation of digital slides was performed, circling areas of invasive carcinoma (Region of Interests, ROIs). The manual annotation of ROIs significantly enhances the prediction accuracy and reduces the need for extensively large datasets.  Regions of necrosis, in situ carcinoma or benign stroma and epithelium were excluded. The images were annotated with ROIs associated to HER2+/- tumor area (TA) by a senior breast pathologist.  The annotations were marked tumor boundaries and annotated by Aperio ImageScope software. The annotations were exported from the Aperio software in The Extensible Markup Language (XML) format, including X and Y coordinates corresponding to the annotated regions. We used these coordinates for each slide image to tile these regions separately from the rest of the image, labeled as HER2+ or HER2- class.  \n",
    "\n",
    "Description of data sets\n",
    "Yale HER2 cohort: This dataset presents 192 cases of HER2 positive and negative invasive breast carcinomas H&E slides from the Yale Pathology electronic database. All tissues and data were retrieved under permission from the Yale Human Investigation Committee protocol #9505008219 to DLR. HER2 positive cases defined as those with 3+ score by immunohistochemistry (IHC) or an equivocal (2+) IHC score with subsequent amplification by fluorescence in situ hybridization (FISH) as defined by American Society of Clinical Oncology/College of American Pathologists (ASCO/CAP) clinical practice guidelines. H&E slides generated at Yale School of Medicine include 93 HER2+ and 99 HER2- slides. The slides were scanned at Yale Pathology Tissue Services and underwent a slide quality check before they went into the scanner. The tissue samples were scanned using Vectra Polaris by Perkin-Elmer scanner using bright field whole slides scanning at 20× magnification at Brady Memorial Laboratory Rimm’s lab.\n",
    "\n",
    "Yale trastuzumab response cohort: 85 response cohort cases were identified also by retrospective search of the Yale Pathology electronic database. Cases included those patients with a pre-treatment breast core biopsy with HER2 positive invasive breast carcinoma who then received neoadjuvant targeted therapy with trastuzumab +/- pertuzumab prior to definitive surgery. HER2 positivity was defined as previously described for the HER2 negative/positive cohort. The response to targeted therapy was obtained from the pathology reports of the surgical resection specimens and dichotomized into responders or non-responders. Those with a complete pathologic response, defined as no residual invasive, lymphovascular invasion or metastatic carcinoma, were designated as responders (n=36). Cases with only residual in situ carcinoma were included in the responder category. Those cases with any amount of residual invasive carcinoma, lymphovascular invasion or metastatic carcinoma were categorized as non-responders (n=49).\n",
    "\n",
    "TCGA HER2 cohort: A total of 668 TCGA-BRCA HER2+/- samples with available HER2 status were downloaded from the GDC portal (see \"Additional Resources\" below). Slides were visually inspected by our pathology team to exclude low quality samples with tissue folding or those that appeared to be from frozen tissue. A total of 182 samples (90 HER2- and 92 HER2+) were retained for use as independent test set.  Information about which specific samples were retained can be found the TCGA_BRCA_Filtered folder of the dataset.\n",
    "\n",
    "https://wiki.cancerimagingarchive.net/pages/viewpage.action?pageId=119702524\n",
    "\n",
    "## Yale HER2 Cohort"
   ]
  },
  {
   "cell_type": "code",
   "execution_count": 7,
   "id": "c5e04763-f951-45a2-b317-07613a442a33",
   "metadata": {
    "tags": []
   },
   "outputs": [
    {
     "data": {
      "text/plain": [
       "191"
      ]
     },
     "execution_count": 7,
     "metadata": {},
     "output_type": "execute_result"
    }
   ],
   "source": [
    "dir = join(test_dir, dataset_names[4], 'pkg_v3', 'Yale_HER2_cohort', 'SVS')\n",
    "len(listdir(dir))"
   ]
  },
  {
   "cell_type": "markdown",
   "id": "2a203077-a775-4e89-aa91-dc2fd1f10c69",
   "metadata": {
    "tags": []
   },
   "source": [
    "## Yale Trastuzumab Response Cohort"
   ]
  },
  {
   "cell_type": "code",
   "execution_count": 8,
   "id": "920aebe3-b698-4181-944d-54987295d8a4",
   "metadata": {
    "tags": []
   },
   "outputs": [
    {
     "data": {
      "text/plain": [
       "85"
      ]
     },
     "execution_count": 8,
     "metadata": {},
     "output_type": "execute_result"
    }
   ],
   "source": [
    "dir = join(test_dir, dataset_names[4], 'pkg_v3', 'Yale_trastuzumab_response_cohort', 'SVS')\n",
    "len(listdir(dir))"
   ]
  },
  {
   "cell_type": "markdown",
   "id": "81fd4de6-109d-4c63-9927-6435d688d7d6",
   "metadata": {
    "tags": []
   },
   "source": [
    "# PKG_UPENN_GBM\n",
    "\n",
    "This collection comprises multi-parametric magnetic resonance imaging (mpMRI) scans for de novo Glioblastoma (GBM) patients from the University of Pennsylvania Health System, coupled with patient demographics, clinical outcome (e.g., overall survival, genomic information, tumor progression), as well as computer-aided and manually-corrected segmentation labels of multiple histologically distinct tumor sub-regions, computer-aided and manually-corrected segmentations of the whole brain, a rich panel of radiomic features along with their corresponding co-registered mpMRI volumes in NIfTI format. Scans were initially skull-stripped and co-registered, before their tumor segmentation labels were produced by an automated computational method. These segmentation labels were revised and any label misclassifications were manually corrected/approved by expert board-certified neuroradiologists. The final labels were used to extract a rich panel of imaging features, including intensity, volumetric, morphologic, histogram-based and textural parameters. The segmentation labels enable quantitative computational and clinical studies without the need to repeat manual annotations whilst allowing for comparison across studies. They can also serve as a set of manually-annotated gold standard labels for performance evaluation in computational challenges. The provided panel of radiomic features may facilitate research integrative of the molecular characterization offered, and hence allow associations with molecular markers (radiogenomic biomarker research), clinical outcomes, treatment responses and other endpoints, by researchers without sufficient computational background to extract such features. Additional data accompanying the UPENN-GBM data collection include H&E-stained digitized tissue sections from resected tumor specimens of matched de novo and recurrent cases for a few of the patients in this collection.\n",
    "\n",
    "https://wiki.cancerimagingarchive.net/pages/viewpage.action?pageId=70225642"
   ]
  },
  {
   "cell_type": "code",
   "execution_count": 9,
   "id": "1c5b19c6-3e64-4a49-bd1d-7582f762927c",
   "metadata": {
    "tags": []
   },
   "outputs": [
    {
     "data": {
      "text/plain": [
       "67"
      ]
     },
     "execution_count": 9,
     "metadata": {},
     "output_type": "execute_result"
    }
   ],
   "source": [
    "dir = join(test_dir, dataset_names[5], 'NDPI_images')\n",
    "len(listdir(dir))"
   ]
  },
  {
   "cell_type": "code",
   "execution_count": null,
   "id": "be9478b6-8018-4784-9341-540d385c784f",
   "metadata": {},
   "outputs": [],
   "source": []
  }
 ],
 "metadata": {
  "kernelspec": {
   "display_name": "Python 3 (ipykernel)",
   "language": "python",
   "name": "python3"
  },
  "language_info": {
   "codemirror_mode": {
    "name": "ipython",
    "version": 3
   },
   "file_extension": ".py",
   "mimetype": "text/x-python",
   "name": "python",
   "nbconvert_exporter": "python",
   "pygments_lexer": "ipython3",
   "version": "3.10.12"
  }
 },
 "nbformat": 4,
 "nbformat_minor": 5
}
