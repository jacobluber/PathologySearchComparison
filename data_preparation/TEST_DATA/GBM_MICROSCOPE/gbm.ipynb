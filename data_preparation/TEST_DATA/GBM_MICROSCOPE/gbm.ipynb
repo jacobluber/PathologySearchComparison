{
 "cells": [
  {
   "cell_type": "code",
   "execution_count": 1,
   "id": "8080c0fe-e7f6-4aa2-8158-dd440ef3c273",
   "metadata": {
    "tags": []
   },
   "outputs": [],
   "source": [
    "import shutil\n",
    "from os import listdir, makedirs\n",
    "from os.path import join, splitext, exists\n",
    "\n",
    "import numpy as np\n",
    "from openslide import open_slide\n",
    "from matplotlib import pyplot as plt\n",
    "import pandas as pd"
   ]
  },
  {
   "cell_type": "code",
   "execution_count": 2,
   "id": "767bf742-56b3-41bc-abc1-58266e9aaf14",
   "metadata": {
    "tags": []
   },
   "outputs": [],
   "source": [
    "test_dir = \"/raid/nejm_ai/RAW_DOWNLOAD/\"\n",
    "dataset_names = [\"PKG_CPTAC_GBM_Pathology_v15\", \"PKG_UPENN_GBM\"]\n",
    "\n",
    "seed = 0"
   ]
  },
  {
   "cell_type": "markdown",
   "id": "5a784b3c-2f08-4ba6-9570-55511007f7f2",
   "metadata": {},
   "source": [
    "# PKG_UPENN_GBM"
   ]
  },
  {
   "cell_type": "code",
   "execution_count": 3,
   "id": "526c9c87-6307-4d05-9ee9-1f2e69408b9e",
   "metadata": {},
   "outputs": [],
   "source": [
    "rng = np.random.default_rng(seed)\n",
    "\n",
    "upenn_dataset_dir = join(test_dir, dataset_names[1], 'NDPI_images')\n",
    "mapping = pd.read_csv(\"radiology_mapping.csv\")\n",
    "mapping = mapping.set_index(\"ImageID\")[\"PatientID\"]"
   ]
  },
  {
   "cell_type": "code",
   "execution_count": 4,
   "id": "1028aac3-cb87-4247-9037-1be4f2a57ab2",
   "metadata": {},
   "outputs": [],
   "source": [
    "slide_names = sorted(listdir(upenn_dataset_dir))\n",
    "rng.shuffle(slide_names)\n",
    "upenn_patients = []\n",
    "upenn_slides = []\n",
    "for slide in slide_names:\n",
    "    name = splitext(slide)[0]\n",
    "    if mapping[name] not in upenn_patients:\n",
    "        upenn_patients.append(mapping[name])\n",
    "        upenn_slides.append(slide)"
   ]
  },
  {
   "cell_type": "code",
   "execution_count": 5,
   "id": "0ad959cc-1ee1-45f1-99e1-e55eb2296169",
   "metadata": {},
   "outputs": [
    {
     "name": "stdout",
     "output_type": "stream",
     "text": [
      "34\n"
     ]
    }
   ],
   "source": [
    "print(len(upenn_slides))"
   ]
  },
  {
   "cell_type": "code",
   "execution_count": null,
   "id": "a4f70e9d-9aba-4056-a71b-22622bf17f5e",
   "metadata": {},
   "outputs": [],
   "source": [
    "destination_folder = \"/raid/nejm_ai/TEST_DATA/GBM_MICROSCOPE_UPENN/\"\n",
    "makedirs(destination_folder, exist_ok=True)\n",
    "\n",
    "for file in upenn_slides:\n",
    "    file_path = join(upenn_dataset_dir, file)\n",
    "    if exists(file_path):\n",
    "        shutil.copy(file_path, destination_folder)\n",
    "    else:\n",
    "        print(f\"File '{file_path}' does not exist. Skipping.\")"
   ]
  },
  {
   "cell_type": "markdown",
   "id": "e0b67144-b9a4-4e4e-ba84-f9b88933a4b7",
   "metadata": {
    "tags": []
   },
   "source": [
    "# PKG_CPTAC-GBM_Pathology_v15"
   ]
  },
  {
   "cell_type": "code",
   "execution_count": 6,
   "id": "ed4922d8-662a-4574-b4fd-3dc15c2653aa",
   "metadata": {},
   "outputs": [],
   "source": [
    "rng = np.random.default_rng(seed)\n",
    "\n",
    "cptac_dataset_dir = join(test_dir, dataset_names[0], 'GBM')"
   ]
  },
  {
   "cell_type": "code",
   "execution_count": 7,
   "id": "a4d1c73d-bcf7-4a33-bac9-ec10c1890abf",
   "metadata": {},
   "outputs": [],
   "source": [
    "slide_names = sorted(listdir(cptac_dataset_dir))\n",
    "rng.shuffle(slide_names)\n",
    "\n",
    "cptac_patients = []\n",
    "cptac_slides = []\n",
    "for slide in slide_names:\n",
    "    patient = slide.split(\"-\")[1]\n",
    "    if patient not in cptac_patients:\n",
    "        cptac_patients.append(patient)\n",
    "        cptac_slides.append(slide)"
   ]
  },
  {
   "cell_type": "code",
   "execution_count": 8,
   "id": "1dca2287-c950-402d-8ba6-886b065b9d83",
   "metadata": {},
   "outputs": [
    {
     "name": "stdout",
     "output_type": "stream",
     "text": [
      "178\n"
     ]
    }
   ],
   "source": [
    "print(len(cptac_slides))"
   ]
  },
  {
   "cell_type": "code",
   "execution_count": 9,
   "id": "cbe4ec3e-c3a4-440d-869a-a4052087eca1",
   "metadata": {},
   "outputs": [],
   "source": [
    "cptac_slides = rng.choice(cptac_slides, size=len(upenn_slides), replace=False)"
   ]
  },
  {
   "cell_type": "code",
   "execution_count": 10,
   "id": "5131485a-794b-4516-871d-52d555be25b0",
   "metadata": {},
   "outputs": [
    {
     "name": "stdout",
     "output_type": "stream",
     "text": [
      "34\n"
     ]
    }
   ],
   "source": [
    "print(len(cptac_slides))"
   ]
  },
  {
   "cell_type": "code",
   "execution_count": 11,
   "id": "74884d6c-b147-4529-9f23-951237fc676b",
   "metadata": {},
   "outputs": [],
   "source": [
    "destination_folder = \"/raid/nejm_ai/TEST_DATA/GBM_MICROSCOPE_CPTAC/\"\n",
    "makedirs(destination_folder, exist_ok=True)\n",
    "\n",
    "for file in cptac_slides:\n",
    "    file_path = join(cptac_dataset_dir, file)\n",
    "    if exists(file_path):\n",
    "        shutil.copy(file_path, destination_folder)\n",
    "    else:\n",
    "        print(f\"File '{file_path}' does not exist. Skipping.\")"
   ]
  },
  {
   "cell_type": "code",
   "execution_count": null,
   "id": "7ad55526-eb6e-4d34-8a2c-d71acc919e2a",
   "metadata": {},
   "outputs": [],
   "source": []
  }
 ],
 "metadata": {
  "kernelspec": {
   "display_name": "Python 3 (ipykernel)",
   "language": "python",
   "name": "python3"
  },
  "language_info": {
   "codemirror_mode": {
    "name": "ipython",
    "version": 3
   },
   "file_extension": ".py",
   "mimetype": "text/x-python",
   "name": "python",
   "nbconvert_exporter": "python",
   "pygments_lexer": "ipython3",
   "version": "3.10.12"
  }
 },
 "nbformat": 4,
 "nbformat_minor": 5
}
