{
 "cells": [
  {
   "cell_type": "code",
   "execution_count": 1,
   "id": "0f3497bc-5c18-4e1a-a64f-8c90db0617ce",
   "metadata": {
    "tags": []
   },
   "outputs": [],
   "source": [
    "from os.path import join\n",
    "\n",
    "from openslide import OpenSlide\n",
    "import numpy as np\n",
    "import pandas as pd"
   ]
  },
  {
   "cell_type": "code",
   "execution_count": 2,
   "id": "7b838675-da65-49f2-b8e7-b664c5f0236b",
   "metadata": {},
   "outputs": [],
   "source": [
    "SEED = 0\n",
    "RNG = np.random.default_rng(SEED)\n",
    "\n",
    "MIN_N_SAMPLES_PER_DIAG = 50\n",
    "MAX_N_SAMPLES_PER_DIAG = 75\n",
    "\n",
    "BASE_DIR = \"/home/data/GDC_BBCLL/\""
   ]
  },
  {
   "cell_type": "markdown",
   "id": "0f7168c7-b088-47b2-8ea0-f94cf85d7d33",
   "metadata": {},
   "source": [
    "# Sampling"
   ]
  },
  {
   "cell_type": "code",
   "execution_count": 3,
   "id": "b155d8df-182c-49f8-8be7-075369015b52",
   "metadata": {},
   "outputs": [],
   "source": [
    "# Function that allows us to randomly sample from each sub-type\n",
    "# The reason the number of samples is different for each sub-type is to introduce class unbalancy\n",
    "def sample_n(df):\n",
    "    if len(df) < MIN_N_SAMPLES_PER_DIAG:\n",
    "        return df\n",
    "    n = RNG.integers(low=MIN_N_SAMPLES_PER_DIAG, high=MAX_N_SAMPLES_PER_DIAG, endpoint=True)\n",
    "    return df.sample(n=n, random_state=RNG)"
   ]
  },
  {
   "cell_type": "code",
   "execution_count": 4,
   "id": "1ee8ec83-1127-4dcd-89d2-09e6fdbe5a13",
   "metadata": {
    "tags": []
   },
   "outputs": [
    {
     "name": "stdout",
     "output_type": "stream",
     "text": [
      "primary_site                       project_name                                   \n",
      "Brain                              Glioblastoma Multiforme                            2040\n",
      "                                   Brain Lower Grade Glioma                           1543\n",
      "                                   Lymphoid Neoplasm Diffuse Large B-cell Lymphoma       4\n",
      "Breast                             Breast Invasive Carcinoma                          2704\n",
      "                                   Lymphoid Neoplasm Diffuse Large B-cell Lymphoma       2\n",
      "Bronchus and lung                  Lung Adenocarcinoma                                1359\n",
      "                                   Lung Squamous Cell Carcinoma                       1265\n",
      "                                   Mesothelioma                                          2\n",
      "Colon                              Colon Adenocarcinoma                               1307\n",
      "                                   Rectum Adenocarcinoma                                18\n",
      "                                   Lymphoid Neoplasm Diffuse Large B-cell Lymphoma       6\n",
      "                                   Sarcoma                                               4\n",
      "Liver and intrahepatic bile ducts  Liver Hepatocellular Carcinoma                      778\n",
      "                                   Cholangiocarcinoma                                   80\n",
      "Name: count, dtype: int64\n",
      "{'Glioblastoma Multiforme': 2040, 'Brain Lower Grade Glioma': 1543, 'Breast Invasive Carcinoma': 2704, 'Lung Adenocarcinoma': 1359, 'Lung Squamous Cell Carcinoma': 1265, 'Colon Adenocarcinoma': 1307, 'Liver Hepatocellular Carcinoma': 778, 'Cholangiocarcinoma': 80}\n",
      "508\n",
      "primary_site                       project_name                  \n",
      "Brain                              Brain Lower Grade Glioma          69\n",
      "                                   Glioblastoma Multiforme           61\n",
      "Breast                             Breast Invasive Carcinoma         72\n",
      "Bronchus and lung                  Lung Adenocarcinoma               68\n",
      "                                   Lung Squamous Cell Carcinoma      57\n",
      "Colon                              Colon Adenocarcinoma              59\n",
      "Liver and intrahepatic bile ducts  Liver Hepatocellular Carcinoma    72\n",
      "                                   Cholangiocarcinoma                50\n",
      "Name: count, dtype: int64\n"
     ]
    }
   ],
   "source": [
    "metadata = pd.read_csv(\"metadata.csv\")\n",
    "\n",
    "# Only choosing slides that the sample type is \"Primary Solid Tumor\"\n",
    "# https://gdc.cancer.gov/resources-tcga-users/tcga-code-tables/sample-type-codes\n",
    "solid_tumor_mask = metadata[\"sample_type_id\"] == 1\n",
    "metadata = metadata[solid_tumor_mask]\n",
    "\n",
    "# Getting insight into the new metadata\n",
    "diag_counts = metadata.groupby(\"primary_site\")[\"project_name\"].value_counts()\n",
    "print(diag_counts)\n",
    "\n",
    "# Making sure to only keep sub-types that we have more than 50 of them.\n",
    "diags_count_dict = {}\n",
    "for index in diag_counts.index:\n",
    "    site, diag = index\n",
    "    count = diag_counts[index]\n",
    "    if count >= 50:\n",
    "        diags_count_dict[diag] = count\n",
    "print(diags_count_dict)\n",
    "\n",
    "diags = list(diags_count_dict.keys())\n",
    "\n",
    "# Only choosing slides with project_name in diags\n",
    "diags_mask = metadata[\"project_name\"].isin(diags)\n",
    "metadata = metadata[diags_mask]\n",
    "\n",
    "# Shuffling the dataset before eliminating repeated patient_ids\n",
    "metadata.sample(frac=1, random_state=RNG)\n",
    "\n",
    "# Ensuring only unique patient_id entries\n",
    "metadat = metadata.drop_duplicates(subset=\"patient_id\", keep=\"first\")\n",
    "\n",
    "# Sampling\n",
    "metadata = metadata.groupby(\"project_name\", group_keys=False).apply(sample_n)\n",
    "metadata = metadata.reset_index(drop=True)\n",
    "\n",
    "# Final metadata summary\n",
    "print(len(metadata))\n",
    "diag_counts = metadata.groupby(\"primary_site\")[\"project_name\"].value_counts()\n",
    "print(diag_counts)"
   ]
  },
  {
   "cell_type": "markdown",
   "id": "9c4fe11f-128a-4377-8404-ea2450025ab5",
   "metadata": {
    "tags": []
   },
   "source": [
    "# Finding Zoom Level"
   ]
  },
  {
   "cell_type": "code",
   "execution_count": 5,
   "id": "d39ecc5a-1c71-4d87-9da3-04f65b8cfa53",
   "metadata": {
    "tags": []
   },
   "outputs": [],
   "source": [
    "def get_magnification(row):\n",
    "    path = join(BASE_DIR, row[\"id\"], row[\"file_name\"])\n",
    "    slide = OpenSlide(path)\n",
    "    magnification = slide.properties.get('openslide.objective-power')\n",
    "    if magnification:\n",
    "        magnification = int(magnification)\n",
    "    return magnification"
   ]
  },
  {
   "cell_type": "code",
   "execution_count": 6,
   "id": "a7de2b7e-ba2e-48df-ad05-6bd2c4593886",
   "metadata": {
    "tags": []
   },
   "outputs": [],
   "source": [
    "metadata[\"magnification\"] = metadata.apply(get_magnification, axis=1)"
   ]
  },
  {
   "cell_type": "markdown",
   "id": "4b8676c8-a811-438f-a8ee-1c03e2a5594b",
   "metadata": {},
   "source": [
    "# Saving"
   ]
  },
  {
   "cell_type": "code",
   "execution_count": 7,
   "id": "22a18643-4a7b-4bce-af91-5362f753ceee",
   "metadata": {
    "tags": []
   },
   "outputs": [],
   "source": [
    "metadata.to_csv('sampled_metadata.csv', index=False)"
   ]
  },
  {
   "cell_type": "code",
   "execution_count": null,
   "id": "534fd101-d19b-4738-b668-ec5adc5b9e17",
   "metadata": {},
   "outputs": [],
   "source": []
  }
 ],
 "metadata": {
  "kernelspec": {
   "display_name": "Python 3 (ipykernel)",
   "language": "python",
   "name": "python3"
  },
  "language_info": {
   "codemirror_mode": {
    "name": "ipython",
    "version": 3
   },
   "file_extension": ".py",
   "mimetype": "text/x-python",
   "name": "python",
   "nbconvert_exporter": "python",
   "pygments_lexer": "ipython3",
   "version": "3.10.12"
  }
 },
 "nbformat": 4,
 "nbformat_minor": 5
}
