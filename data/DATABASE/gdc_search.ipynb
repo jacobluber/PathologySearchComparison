{
 "cells": [
  {
   "cell_type": "code",
   "execution_count": null,
   "id": "af15c47e-bae3-49c5-8dcb-87efbfb8d041",
   "metadata": {
    "tags": []
   },
   "outputs": [],
   "source": [
    "import requests\n",
    "import json\n",
    "import io\n",
    "import pickle\n",
    "\n",
    "import pandas as pd"
   ]
  },
  {
   "cell_type": "code",
   "execution_count": null,
   "id": "e4263016-bced-4c70-b8d3-8f78b09b1f05",
   "metadata": {
    "tags": []
   },
   "outputs": [],
   "source": [
    "files_endpt = \"https://api.gdc.cancer.gov/files\""
   ]
  },
  {
   "cell_type": "markdown",
   "id": "93c8cac6-2fec-47e4-9805-4ac806612ece",
   "metadata": {},
   "source": [
    "# Field Groups\n",
    "\n",
    "https://docs.gdc.cancer.gov/API/Users_Guide/Appendix_A_Available_Fields/#field-group-listing-by-endpoint\n",
    "\n",
    "https://docs.gdc.cancer.gov/Encyclopedia/pages/TCGA_Barcode/\n",
    "\n",
    "https://gdc.cancer.gov/resources-tcga-users/tcga-code-tables"
   ]
  },
  {
   "cell_type": "markdown",
   "id": "f6b9608e-9d4b-4932-a6e0-b21e74ad9093",
   "metadata": {},
   "source": [
    "## JSON"
   ]
  },
  {
   "cell_type": "code",
   "execution_count": null,
   "id": "9222002b-d26d-4ec9-adf8-897fdbf370e7",
   "metadata": {
    "tags": []
   },
   "outputs": [],
   "source": [
    "filters = {\n",
    "    \"op\": \"and\",\n",
    "    \"content\":[\n",
    "        {\n",
    "        \"op\": \"in\",\n",
    "        \"content\":{\n",
    "            \"field\": \"cases.primary_site\",\n",
    "            \"value\": [\"Breast\", \"Brain\", \"Bronchus and lung\", \"Colon\", \"Liver and intrahepatic bile ducts\"]\n",
    "            }\n",
    "        },\n",
    "        {\n",
    "        \"op\": \"=\",\n",
    "        \"content\":{\n",
    "            \"field\": \"files.data_format\",\n",
    "            \"value\": [\"SVS\"]\n",
    "            }\n",
    "        }\n",
    "    ]\n",
    "}"
   ]
  },
  {
   "cell_type": "code",
   "execution_count": null,
   "id": "7f40a447-ee99-4793-8621-bd4bf691c340",
   "metadata": {
    "tags": []
   },
   "outputs": [],
   "source": [
    "json_params = {\n",
    "    \"filters\": json.dumps(filters),\n",
    "    \"expand\": \"cases.project,cases.demographic,cases.diagnoses,cases.samples,cases.tissue_source_site,cases.project,cases\",\n",
    "    \"format\": \"json\",\n",
    "    \"size\": \"40000\"\n",
    "}"
   ]
  },
  {
   "cell_type": "code",
   "execution_count": null,
   "id": "f0f6b0b7-48b6-4067-95ce-e9a6ebff76d0",
   "metadata": {
    "tags": []
   },
   "outputs": [],
   "source": [
    "response = requests.post(files_endpt, headers={\"Content-Type\": \"application/json\"}, json=json_params)\n",
    "with open('all_metadata.json', 'w') as f:\n",
    "    json.dump(response.json(), f)"
   ]
  },
  {
   "cell_type": "markdown",
   "id": "e0f38a40-241a-46db-af74-5b4f20ef1795",
   "metadata": {},
   "source": [
    "## CSV"
   ]
  },
  {
   "cell_type": "code",
   "execution_count": null,
   "id": "4139f924-400d-479e-acff-ec755b03cd6e",
   "metadata": {},
   "outputs": [],
   "source": [
    "csv_params = {\n",
    "    \"filters\": json.dumps(filters),\n",
    "    \"expand\": \"cases.project,cases.demographic,cases.diagnoses,cases.samples,cases.tissue_source_site,cases.project,cases\",\n",
    "    \"format\": \"csv\",\n",
    "    \"size\": \"40000\"\n",
    "}"
   ]
  },
  {
   "cell_type": "code",
   "execution_count": null,
   "id": "0244d176-d3b1-46d5-a27c-653eeb397809",
   "metadata": {},
   "outputs": [],
   "source": [
    "response = requests.post(files_endpt, headers={\"Content-Type\": \"application/json\"}, json=csv_params)\n",
    "df = pd.read_csv(io.StringIO(response.content.decode('utf-8')), dtype='object')\n",
    "df.to_csv('all_metadata.csv', index=False)"
   ]
  },
  {
   "cell_type": "code",
   "execution_count": null,
   "id": "515bd6bc-3482-484e-b1a3-20e9a98e5967",
   "metadata": {},
   "outputs": [],
   "source": [
    "df = pd.read_csv('all_metadata.csv')"
   ]
  },
  {
   "cell_type": "markdown",
   "id": "714971f2-c577-408d-bbef-7ec46a0d22be",
   "metadata": {},
   "source": [
    "### CSV Refinement"
   ]
  },
  {
   "cell_type": "code",
   "execution_count": null,
   "id": "2f3fc97d-53f4-4af8-a526-5efa875fca6a",
   "metadata": {},
   "outputs": [],
   "source": [
    "fields = {\n",
    "    \"id\": \"id\",\n",
    "    \"data_format\": \"data_format\",\n",
    "    \"access\": \"access\",\n",
    "    \"file_name\": \"file_name\",\n",
    "    \"submitter_id\": \"submitter_id\",\n",
    "    \"data_category\": \"data_category\",\n",
    "    \"type\": \"type\",\n",
    "    \"file_size\": \"file_size\",\n",
    "    \"created_datetime\": \"created_datetime\",\n",
    "    \"md5sum\": \"md5sum\",\n",
    "    \"updated_datetime\": \"updated_datetime\",\n",
    "    \"file_id\": \"file_id\",\n",
    "    \"data_type\": \"data_type\",\n",
    "    \"state\": \"state\",\n",
    "    \"experimental_strategy\": \"experimental_strategy\",\n",
    "    \"version\": \"version\",\n",
    "    \"data_release\": \"data_release\",\n",
    "    \n",
    "    \"cases.0.primary_site\": \"primary_site\",\n",
    "    \"cases.0.disease_type\": \"disease_type\",\n",
    "    \"cases.0.case_id\": \"case_id\",\n",
    "    \n",
    "    \"cases.0.project.name\": \"project_name\",\n",
    "    \"cases.0.project.primary_site\": \"project_primary_site\",\n",
    "    \"cases.0.project.disease_type\": \"project_disease_type\",\n",
    "    \n",
    "    \"cases.0.diagnoses.0.ajcc_pathologic_stage\": \"diag_ajcc_pathologic_stage\",\n",
    "    \"cases.0.diagnoses.0.synchronous_malignancy\": \"diag_synchronous_malignancy\",\n",
    "    \"cases.0.diagnoses.0.tissue_or_organ_of_origin\": \"diag_tissue_or_organ_of_origin\",\n",
    "    \"cases.0.diagnoses.0.primary_diagnosis\": \"diag_primary_diagnosis\",\n",
    "    \"cases.0.diagnoses.0.prior_malignancy\": \"diag_prior_malignancy\",\n",
    "    \"cases.0.diagnoses.0.ajcc_pathologic_t\": \"diag_ajcc_pathologic_t\",\n",
    "    \"cases.0.diagnoses.0.morphology\": \"diag_morphology\",\n",
    "    \"cases.0.diagnoses.0.method_of_diagnosis\": \"method_of_diagnosis\",\n",
    "    \"cases.0.diagnoses.0.ajcc_pathologic_n\": \"diag_ajcc_pathologic_n\",\n",
    "    \"cases.0.diagnoses.0.ajcc_pathologic_m\": \"diag_ajcc_pathologic_m\",\n",
    "    \"cases.0.diagnoses.0.classification_of_tumor\": \"diag_classification_of_tumor\",\n",
    "    \"cases.0.diagnoses.0.icd_10_code\": \"diag_icd_10_code\",\n",
    "    \"cases.0.diagnoses.0.site_of_resection_or_biopsy\": \"diag_site_of_resection_or_biopsy\",\n",
    "    \"cases.0.diagnoses.0.progression_or_recurrence\": \"diag_progression_or_recurrence\",\n",
    "    \n",
    "    \"cases.0.samples.0.sample_type_id\": \"sample_type_id\",\n",
    "    \"cases.0.samples.0.sample_type\": \"sample_type\",\n",
    "    \"cases.0.samples.0.tissue_type\": \"tissue_type\",\n",
    "}"
   ]
  },
  {
   "cell_type": "code",
   "execution_count": null,
   "id": "f5994d3c-124c-4c9e-8e1a-18aaf51caf1e",
   "metadata": {},
   "outputs": [],
   "source": [
    "metadata = df[list(fields.keys())]\n",
    "metadata = metadata.rename(columns=fields, inplace=False)\n",
    "metadata[\"patient_id\"] = metadata[\"submitter_id\"].apply(lambda row: row.split(\"-\")[2])"
   ]
  },
  {
   "cell_type": "code",
   "execution_count": null,
   "id": "347c8e20-1642-4fca-9d46-fe535d2117ff",
   "metadata": {},
   "outputs": [],
   "source": [
    "metadata.to_csv(\"metadata.csv\", index=False)"
   ]
  },
  {
   "cell_type": "code",
   "execution_count": null,
   "id": "5fb3fee0-9c85-4a35-92f9-5503de5ee7a1",
   "metadata": {},
   "outputs": [],
   "source": []
  }
 ],
 "metadata": {
  "kernelspec": {
   "display_name": "Python 3 (ipykernel)",
   "language": "python",
   "name": "python3"
  },
  "language_info": {
   "codemirror_mode": {
    "name": "ipython",
    "version": 3
   },
   "file_extension": ".py",
   "mimetype": "text/x-python",
   "name": "python",
   "nbconvert_exporter": "python",
   "pygments_lexer": "ipython3",
   "version": "3.10.12"
  }
 },
 "nbformat": 4,
 "nbformat_minor": 5
}
