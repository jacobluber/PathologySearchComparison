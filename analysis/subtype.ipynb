{
 "cells": [
  {
   "cell_type": "code",
   "execution_count": 1,
   "id": "5fdc36f4-9a5f-4919-afdd-dc92b8def158",
   "metadata": {},
   "outputs": [],
   "source": [
    "import pandas as pd\n",
    "from collections import Counter"
   ]
  },
  {
   "cell_type": "markdown",
   "id": "4f9ade11-6b38-45cf-bc11-0477cda79f44",
   "metadata": {},
   "source": [
    "# Functions"
   ]
  },
  {
   "cell_type": "code",
   "execution_count": 2,
   "id": "02ddb7c1-c58e-4a46-9bdd-c0da51520e46",
   "metadata": {},
   "outputs": [],
   "source": [
    "def average_precision_at_k(row, k):\n",
    "    relevant_count = 0\n",
    "    precision_sum = 0\n",
    "    for i in range(1, k+1):\n",
    "        ret_site = row[f'ret_{i}_diagnosis']\n",
    "        if ret_site is None:\n",
    "            continue\n",
    "        if ret_site == row['query_diagnosis']:\n",
    "            relevant_count += 1\n",
    "            precision_sum += relevant_count / i\n",
    "    if relevant_count == 0:\n",
    "        return 0\n",
    "    return precision_sum / min(k, relevant_count)"
   ]
  },
  {
   "cell_type": "code",
   "execution_count": 3,
   "id": "a5b2d6ce-cc09-4da2-ba39-4353fefa6757",
   "metadata": {},
   "outputs": [],
   "source": [
    "def majority_voting_at_k(row, k):\n",
    "    votes = []\n",
    "    for i in range(1, k+1):\n",
    "        ret_site = row[f'ret_{i}_diagnosis']\n",
    "        if pd.isnull(ret_site):\n",
    "            votes.append(-1)\n",
    "        else:\n",
    "            votes.append(ret_site)\n",
    "    if not votes:\n",
    "        return 0\n",
    "    counter = Counter(votes)\n",
    "    most_common = counter.most_common(1)\n",
    "    if most_common[0][0] == row['query_diagnosis']:\n",
    "        return 1\n",
    "    elif most_common[0][0] == -1:\n",
    "        return None\n",
    "    else:\n",
    "        return 0"
   ]
  },
  {
   "cell_type": "code",
   "execution_count": 4,
   "id": "fbd6d14e-954b-4cf3-8134-1c1e6f57e0ff",
   "metadata": {},
   "outputs": [],
   "source": [
    "def calculate_site_metrics(df):\n",
    "    tmp = []\n",
    "    for k in [1, 3, 5]:\n",
    "        df[f'MV_at_{k}'] = df.apply(lambda row: majority_voting_at_k(row, k), axis=1)\n",
    "        tmp.extend([df[f\"MV_at_{k}\"].mean()])\n",
    "\n",
    "    for k in [3, 5]:\n",
    "        df[f'AP_at_{k}'] = df.apply(lambda row: average_precision_at_k(row, k), axis=1)\n",
    "        tmp.extend([df[f\"AP_at_{k}\"].mean()])\n",
    "    return tmp"
   ]
  },
  {
   "cell_type": "code",
   "execution_count": null,
   "id": "28467bca-7dfb-43fb-91d3-d18e28a64dce",
   "metadata": {
    "scrolled": true
   },
   "outputs": [],
   "source": [
    "records = []\n",
    "for model in [\"yottixel\", \"sish\", \"retccl\", \"hshr\"]:\n",
    "    # print(f\"{model} Results:\")\n",
    "    for exp in [\"GBM_MICROSCOPE_CPTAC\"]:\n",
    "        site_results = pd.read_csv(f\"data/{model}/{exp}/sub_type.csv\")\n",
    "\n",
    "        if exp == \"BRCA_HER2\":\n",
    "            df1 = site_results[site_results[\"query_name\"].apply(lambda x: x.startswith(\"Her2Pos\"))]\n",
    "            df2 = site_results[site_results[\"query_name\"].apply(lambda x: x.startswith(\"Her2Neg\"))]\n",
    "            # print(f\"BRCA_HER2_POS results:\")\n",
    "            tmp = calculate_site_metrics(df1)\n",
    "            tmp.extend([\"Her2Pos\", model])\n",
    "            records.append(tmp)\n",
    "            # print(f\"BRCA_HER2_POS results:\")\n",
    "            tmp = calculate_site_metrics(df2)\n",
    "            tmp.extend([\"Her2Neg\", model])\n",
    "            records.append(tmp)\n",
    "        else:\n",
    "            # print(f\"{exp} results:\")\n",
    "            tmp = calculate_site_metrics(site_results)\n",
    "            tmp.extend([exp, model])\n",
    "            records.append(tmp)\n",
    "\n",
    "columns = [\"mMV_at_1\", \"mMV_at_3\", \"mMV_at_5\", \"mAP_at_3\", \"mAP_at_5\", \"Exp\", \"Model\"]\n",
    "df = pd.DataFrame.from_records(records, columns=columns)\n",
    "df.to_csv(\"site_results.csv\", index=False)"
   ]
  },
  {
   "cell_type": "code",
   "execution_count": null,
   "id": "e9104a7b-b4cf-428c-8379-7174fde39a0a",
   "metadata": {},
   "outputs": [],
   "source": [
    "records = []\n",
    "for model in [\"yottixel\", \"sish\", \"hshr\"]:\n",
    "    for exp in [\"GBM_MICROSCOPE_UPENN\"]:\n",
    "        site_results = pd.read_csv(f\"data/{model}/{exp}/sub_type.csv\")\n",
    "        tmp = calculate_site_metrics(site_results)\n",
    "        tmp.extend([exp, model])\n",
    "        records.append(tmp)\n",
    "\n",
    "columns = [\"mMV_at_1\", \"mMV_at_3\", \"mMV_at_5\", \"mAP_at_3\", \"mAP_at_5\", \"Exp\", \"Model\"]\n",
    "df = pd.DataFrame.from_records(records, columns=columns)\n",
    "df.to_csv(\"site_results2.csv\", index=False)"
   ]
  },
  {
   "cell_type": "code",
   "execution_count": null,
   "id": "eab4b180-377f-49df-93bc-6a06ad168582",
   "metadata": {},
   "outputs": [],
   "source": [
    "columns = [\"MV_at_1\", \"MV_at_3\", \"MV_at_5\", \"AP_at_3\", \"AP_at_5\"]\n",
    "for model in [\"yottixel\", \"sish\", \"retccl\", \"hshr\"]:\n",
    "    for exp in [\"UCLA\", \"READER_STUDY\"]:\n",
    "        site_results = pd.read_csv(f\"data/{model}/{exp}/sub_type.csv\")\n",
    "        for k in [1, 3, 5]:\n",
    "            site_results[f'MV_at_{k}'] = site_results.apply(lambda row: majority_voting_at_k(row, k), axis=1)\n",
    "    \n",
    "        for k in [3, 5]:\n",
    "            site_results[f'AP_at_{k}'] = site_results.apply(lambda row: average_precision_at_k(row, k), axis=1)\n",
    "            tmp.extend([site_results[f\"AP_at_{k}\"]])\n",
    "        \n",
    "        site_results[columns].to_csv(f\"{model}_{exp}.csv\", index=False)"
   ]
  },
  {
   "cell_type": "code",
   "execution_count": null,
   "id": "4f6925af-b55e-4467-823e-c1c82c684690",
   "metadata": {},
   "outputs": [],
   "source": [
    "records = []\n",
    "for model in [\"yottixel\"]:\n",
    "    # print(f\"{model} Results:\")\n",
    "    for exp in [\"ABLATION_GBM_MICROSCOPE_CPTAC\", \"ABLATION_GBM_MICROSCOPE_UPENN\"]:\n",
    "        site_results = pd.read_csv(f\"data/{model}/{exp}/sub_type.csv\")\n",
    "        tmp = calculate_site_metrics(site_results)\n",
    "        tmp.extend([exp, model])\n",
    "        records.append(tmp)\n",
    "\n",
    "columns = [\"mMV_at_1\", \"mMV_at_3\", \"mMV_at_5\", \"mAP_at_3\", \"mAP_at_5\", \"Exp\", \"Model\"]\n",
    "df = pd.DataFrame.from_records(records, columns=columns)\n",
    "df.to_csv(\"ablation_subtype_results.csv\", index=False)"
   ]
  },
  {
   "cell_type": "code",
   "execution_count": 5,
   "id": "43b10d0a-3000-4bb4-abb7-69688689cd5a",
   "metadata": {},
   "outputs": [],
   "source": [
    "columns = [\"MV_at_1\", \"MV_at_3\", \"MV_at_5\", \"AP_at_3\", \"AP_at_5\"]\n",
    "for model in [\"yottixel\"]:\n",
    "    for exp in [\"ABLATION_UCLA\"]:\n",
    "        site_results = pd.read_csv(f\"data/{model}/{exp}/sub_type.csv\")\n",
    "        tmp = calculate_site_metrics(site_results)\n",
    "        for k in [1, 3, 5]:\n",
    "            site_results[f'MV_at_{k}'] = site_results.apply(lambda row: majority_voting_at_k(row, k), axis=1)\n",
    "    \n",
    "        for k in [3, 5]:\n",
    "            site_results[f'AP_at_{k}'] = site_results.apply(lambda row: average_precision_at_k(row, k), axis=1)\n",
    "            tmp.extend([site_results[f\"AP_at_{k}\"]])\n",
    "        \n",
    "        site_results[columns].to_csv(f\"{model}_{exp}.csv\", index=False)"
   ]
  },
  {
   "cell_type": "code",
   "execution_count": null,
   "id": "33d4ac66-d7e3-42d7-b816-b5fdd4c2131c",
   "metadata": {},
   "outputs": [],
   "source": []
  }
 ],
 "metadata": {
  "kernelspec": {
   "display_name": "Python 3 (ipykernel)",
   "language": "python",
   "name": "python3"
  },
  "language_info": {
   "codemirror_mode": {
    "name": "ipython",
    "version": 3
   },
   "file_extension": ".py",
   "mimetype": "text/x-python",
   "name": "python",
   "nbconvert_exporter": "python",
   "pygments_lexer": "ipython3",
   "version": "3.10.12"
  }
 },
 "nbformat": 4,
 "nbformat_minor": 5
}
