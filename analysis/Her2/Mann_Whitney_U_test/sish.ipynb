version https://git-lfs.github.com/spec/v1
oid sha256:7644ae7d34eb7498092d9a7e29f7bfb7ea3e332d3d8229f0d46e2cab8dc2f4e1
size 287578
