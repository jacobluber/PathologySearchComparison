version https://git-lfs.github.com/spec/v1
oid sha256:ee7ff485bb48ec1605a31a435986aea91d32430a335a000b059712c4c68ada89
size 24455
