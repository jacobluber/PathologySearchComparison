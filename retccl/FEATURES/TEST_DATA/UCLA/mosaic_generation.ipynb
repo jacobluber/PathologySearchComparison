{
 "cells": [
  {
   "cell_type": "code",
   "execution_count": 1,
   "id": "c946a587-c8be-4065-8900-2f2469006537",
   "metadata": {},
   "outputs": [],
   "source": [
    "from os.path import join, abspath\n",
    "from os import listdir, makedirs\n",
    "import pickle\n",
    "\n",
    "import numpy as np\n",
    "import pandas as pd\n",
    "import h5py\n",
    "import torch\n",
    "from sklearn.cluster import KMeans"
   ]
  },
  {
   "cell_type": "code",
   "execution_count": 2,
   "id": "187ce85c-3b3c-4b0b-8253-e144eaf5cae2",
   "metadata": {},
   "outputs": [],
   "source": [
    "features_df = pd.read_csv(\"patch_dataframe.csv\")"
   ]
  },
  {
   "cell_type": "code",
   "execution_count": 3,
   "id": "0a9b032c-d07e-4aaa-82f0-8a5dbaeda42c",
   "metadata": {},
   "outputs": [],
   "source": [
    "features_list = []\n",
    "for f in listdir(\"_features_logs/\"):\n",
    "    with open(join(\"_features_logs\", f), 'rb') as p:\n",
    "        feature = pickle.load(p)\n",
    "    features_list.extend(feature.cpu())"
   ]
  },
  {
   "cell_type": "code",
   "execution_count": 4,
   "id": "807b0041-9960-46f0-bd2f-a80663d7383a",
   "metadata": {},
   "outputs": [],
   "source": [
    "features_df.loc[:, \"features\"] = features_list\n",
    "features_df[\"features\"] = features_df[\"features\"].apply(lambda tensor: tensor.tolist())\n",
    "features_df = features_df.set_index(['file_name'], inplace=False)"
   ]
  },
  {
   "cell_type": "code",
   "execution_count": 5,
   "id": "03ed2801-9ae5-4c6f-a51e-2208be04f38a",
   "metadata": {},
   "outputs": [
    {
     "name": "stdout",
     "output_type": "stream",
     "text": [
      "started mosaic generation for slide1.svs...\n"
     ]
    },
    {
     "name": "stderr",
     "output_type": "stream",
     "text": [
      "/tmp/ipykernel_3707939/143311409.py:30: FutureWarning: The behavior of DataFrame concatenation with empty or all-NA entries is deprecated. In a future version, this will no longer exclude empty or all-NA columns when determining the result dtypes. To retain the old behavior, exclude the relevant entries before the concat operation.\n",
      "  mosaic = pd.concat([mosaic, cluster_patches.iloc[sidx:sidx+1]], ignore_index=True)\n",
      "/tmp/ipykernel_3707939/143311409.py:39: FutureWarning: The behavior of DataFrame concatenation with empty or all-NA entries is deprecated. In a future version, this will no longer exclude empty or all-NA columns when determining the result dtypes. To retain the old behavior, exclude the relevant entries before the concat operation.\n",
      "  mosaics = pd.concat([mosaics, mosaic], ignore_index=True)\n",
      "/tmp/ipykernel_3707939/143311409.py:30: FutureWarning: The behavior of DataFrame concatenation with empty or all-NA entries is deprecated. In a future version, this will no longer exclude empty or all-NA columns when determining the result dtypes. To retain the old behavior, exclude the relevant entries before the concat operation.\n",
      "  mosaic = pd.concat([mosaic, cluster_patches.iloc[sidx:sidx+1]], ignore_index=True)\n"
     ]
    },
    {
     "name": "stdout",
     "output_type": "stream",
     "text": [
      "started mosaic generation for slide3.svs...\n",
      "started mosaic generation for slide2.svs...\n"
     ]
    },
    {
     "name": "stderr",
     "output_type": "stream",
     "text": [
      "/tmp/ipykernel_3707939/143311409.py:30: FutureWarning: The behavior of DataFrame concatenation with empty or all-NA entries is deprecated. In a future version, this will no longer exclude empty or all-NA columns when determining the result dtypes. To retain the old behavior, exclude the relevant entries before the concat operation.\n",
      "  mosaic = pd.concat([mosaic, cluster_patches.iloc[sidx:sidx+1]], ignore_index=True)\n"
     ]
    },
    {
     "name": "stdout",
     "output_type": "stream",
     "text": [
      "mosaic generation completed successfully.\n"
     ]
    }
   ],
   "source": [
    "save_dir = \".\"\n",
    "kl = 9\n",
    "R = 0.2\n",
    "\n",
    "j = 0\n",
    "mosaics = pd.DataFrame(columns=features_df.columns.append(pd.Index([\"feature_cluster\"])))\n",
    "for slide_id in features_df.index.unique():\n",
    "    print(f\"started mosaic generation for {slide_id}...\")\n",
    "    kmeans = KMeans(n_clusters=kl, n_init=10, random_state=0)\n",
    "    features = np.stack(features_df.loc[slide_id, \"features\"].values)\n",
    "    kmeans.fit(features)\n",
    "    features_df.loc[slide_id, 'feature_cluster'] = kmeans.labels_\n",
    "\n",
    "    slide_df = features_df.loc[slide_id].copy()\n",
    "    mosaic = pd.DataFrame(columns=slide_df.columns)\n",
    "    for i in range(kl):\n",
    "        cluster_patches = slide_df[slide_df.loc[slide_id, \"feature_cluster\"]==i]\n",
    "        n_selected = max(1, int(len(cluster_patches) * R))\n",
    "\n",
    "        km = KMeans(n_clusters=n_selected, n_init=10, random_state=0)\n",
    "        loc_features = [[row[\"coord1\"], row[\"coord2\"]] for _, row in cluster_patches.iterrows()]\n",
    "        ds = km.fit_transform(loc_features)\n",
    "\n",
    "        c_selected_idx = []\n",
    "        for idx in range(n_selected):\n",
    "            sorted_idx = np.argsort(ds[:, idx])\n",
    "            for sidx in sorted_idx:\n",
    "                if sidx not in c_selected_idx:\n",
    "                    c_selected_idx.append(sidx)\n",
    "                    mosaic = pd.concat([mosaic, cluster_patches.iloc[sidx:sidx+1]], ignore_index=True)\n",
    "                    break\n",
    "\n",
    "    path = join(save_dir, \"_mosaics_logs\")\n",
    "    makedirs(path, exist_ok=True)\n",
    "    with open(join(path, f\"mosaic{j}.pkl\"), \"wb\") as f:\n",
    "        pickle.dump(mosaic, f)\n",
    "    j +=1\n",
    "\n",
    "    mosaics = pd.concat([mosaics, mosaic], ignore_index=True)\n",
    "\n",
    "mosaics.to_json(join(save_dir, \"mosaics.json\"))\n",
    "# mosaics.to_hdf(join(save_dir, \"mosaics.h5\"), key=\"df\", mode=\"w\")\n",
    "# features_df.to_hdf(join(save_dir, \"features_with_cluster.h5\"), key=\"df\", mode=\"w\")\n",
    "\n",
    "print(\"mosaic generation completed successfully.\")\n",
    "    "
   ]
  },
  {
   "cell_type": "code",
   "execution_count": null,
   "id": "16c2def8-c3e0-4614-b10d-b054e1d2e506",
   "metadata": {},
   "outputs": [],
   "source": []
  }
 ],
 "metadata": {
  "kernelspec": {
   "display_name": "Python 3 (ipykernel)",
   "language": "python",
   "name": "python3"
  },
  "language_info": {
   "codemirror_mode": {
    "name": "ipython",
    "version": 3
   },
   "file_extension": ".py",
   "mimetype": "text/x-python",
   "name": "python",
   "nbconvert_exporter": "python",
   "pygments_lexer": "ipython3",
   "version": "3.10.12"
  }
 },
 "nbformat": 4,
 "nbformat_minor": 5
}
