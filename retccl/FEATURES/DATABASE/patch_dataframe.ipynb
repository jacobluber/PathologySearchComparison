{
 "cells": [
  {
   "cell_type": "code",
   "execution_count": 1,
   "id": "47f9c21e-a27d-4626-9a4f-3dda567e762d",
   "metadata": {
    "tags": []
   },
   "outputs": [],
   "source": [
    "from os.path import join, splitext, split\n",
    "import glob\n",
    "import json\n",
    "\n",
    "import pandas as pd\n",
    "import h5py"
   ]
  },
  {
   "cell_type": "markdown",
   "id": "8490cb7a-0a7b-48f3-92b6-4afb7a6db45a",
   "metadata": {},
   "source": [
    "# Inputs"
   ]
  },
  {
   "cell_type": "code",
   "execution_count": 2,
   "id": "2011b69a-ea99-4546-b73c-cebd23bd5f2e",
   "metadata": {
    "tags": []
   },
   "outputs": [],
   "source": [
    "BASE_DIR = \"PathologySearchComparison/DATA/DATABASE/\"\n",
    "DATA_DIR = \".\""
   ]
  },
  {
   "cell_type": "code",
   "execution_count": 3,
   "id": "3bd13327-9ca5-486f-b60c-203c977444cb",
   "metadata": {
    "tags": []
   },
   "outputs": [],
   "source": [
    "metadata = pd.read_csv(\"sampled_metadata.csv\")\n",
    "metadata = metadata.set_index('file_name')"
   ]
  },
  {
   "cell_type": "markdown",
   "id": "b30177ec-9a76-48f2-ba89-366ba2bbbd21",
   "metadata": {},
   "source": [
    "# Functions"
   ]
  },
  {
   "cell_type": "code",
   "execution_count": 4,
   "id": "915e99a2-f32b-4823-ad68-4ecef109557a",
   "metadata": {
    "tags": []
   },
   "outputs": [],
   "source": [
    "def read_h5_patch(h5_patch):\n",
    "    with h5py.File(h5_patch, 'r') as f:\n",
    "        dataset = f['coords']\n",
    "        coords = dataset[:]\n",
    "        patch_level = dataset.attrs[\"patch_level\"]\n",
    "        patch_size = dataset.attrs[\"patch_size\"]\n",
    "    return coords, patch_level, patch_size"
   ]
  },
  {
   "cell_type": "markdown",
   "id": "4e209112-768f-46c9-9314-b68d5e31e562",
   "metadata": {},
   "source": [
    "# DataFrame Generation"
   ]
  },
  {
   "cell_type": "code",
   "execution_count": 5,
   "id": "3955b48d-0a6d-4394-bfba-14197d3a50dc",
   "metadata": {
    "tags": []
   },
   "outputs": [],
   "source": [
    "patch_pattern = join(DATA_DIR, \"*\", \"*\", \"patches\", \"*.h5\")\n",
    "patches_list = glob.glob(patch_pattern)"
   ]
  },
  {
   "cell_type": "code",
   "execution_count": 6,
   "id": "01fc8254-e8ae-43e3-86b3-731aeea6229d",
   "metadata": {
    "tags": []
   },
   "outputs": [],
   "source": [
    "patch_dict = {}\n",
    "for h5_patch in patches_list:\n",
    "    coords, patch_level, patch_size = read_h5_patch(h5_patch)\n",
    "    head, file_name = split(h5_patch)\n",
    "    file_name = splitext(file_name)[0] + \".svs\"\n",
    "    head, tail = split(head)\n",
    "    head, diagnosis = split(head)\n",
    "    _, site = split(head)\n",
    "    file_id = metadata.loc[file_name, \"id\"]\n",
    "    slide_path = join(BASE_DIR, site, diagnosis, file_name)\n",
    "    \n",
    "    for coord in coords:\n",
    "        patch_dict.setdefault(\"file_id\", []).append(file_id)\n",
    "        patch_dict.setdefault(\"file_name\", []).append(file_name)\n",
    "        patch_dict.setdefault(\"slide_path\", []).append(slide_path)\n",
    "        patch_dict.setdefault(\"patch_level\", []).append(patch_level)\n",
    "        patch_dict.setdefault(\"patch_size\", []).append(patch_size)\n",
    "        patch_dict.setdefault(\"coord1\", []).append(coord[0])\n",
    "        patch_dict.setdefault(\"coord2\", []).append(coord[1])"
   ]
  },
  {
   "cell_type": "code",
   "execution_count": 7,
   "id": "87a8b94e-2c9d-4a24-814b-cbecc307b9da",
   "metadata": {
    "tags": []
   },
   "outputs": [],
   "source": [
    "patch_dataframe = pd.DataFrame(patch_dict)\n",
    "patch_dataframe.to_csv(\"patch_dataframe.csv\", index=False)"
   ]
  }
 ],
 "metadata": {
  "kernelspec": {
   "display_name": "Python 3 (ipykernel)",
   "language": "python",
   "name": "python3"
  },
  "language_info": {
   "codemirror_mode": {
    "name": "ipython",
    "version": 3
   },
   "file_extension": ".py",
   "mimetype": "text/x-python",
   "name": "python",
   "nbconvert_exporter": "python",
   "pygments_lexer": "ipython3",
   "version": "3.10.12"
  }
 },
 "nbformat": 4,
 "nbformat_minor": 5
}
